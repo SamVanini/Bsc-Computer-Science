{
 "cells": [
  {
   "cell_type": "code",
   "execution_count": null,
   "id": "5a640364",
   "metadata": {},
   "outputs": [],
   "source": [
    "import requests\n",
    "\n",
    "req = requests.get(\"https://www.ilmeteo.it/meteo/Verona\")"
   ]
  },
  {
   "cell_type": "code",
   "execution_count": null,
   "id": "3e27066b",
   "metadata": {},
   "outputs": [],
   "source": [
    "# stampo solo i primi 500 caratteri\n",
    "print(req.text[:500])"
   ]
  },
  {
   "cell_type": "code",
   "execution_count": null,
   "id": "01d5a8a7",
   "metadata": {},
   "outputs": [],
   "source": [
    "import bs4 as bs # beautifulsoup\n",
    "\n",
    "# usa html.parser come parser\n",
    "soup = bs.BeautifulSoup(req.text, \"html.parser\")\n",
    "print(type(soup))"
   ]
  },
  {
   "cell_type": "code",
   "execution_count": null,
   "id": "b20f1ca4",
   "metadata": {},
   "outputs": [],
   "source": [
    "# parser alternativo: html5lib\n",
    "soup = bs.BeautifulSoup(req.text, \"html5lib\")\n",
    "print(type(soup))"
   ]
  },
  {
   "cell_type": "code",
   "execution_count": null,
   "id": "aaa50567",
   "metadata": {},
   "outputs": [],
   "source": [
    "import time\n",
    "\n",
    "# veloce\n",
    "start = time.time()\n",
    "soup = bs.BeautifulSoup(req.text, \"html.parser\")\n",
    "print(type(soup))\n",
    "end = time.time()\n",
    "print(end - start)\n",
    "\n",
    "# lento ma più preciso\n",
    "start = time.time()\n",
    "soup = bs.BeautifulSoup(req.text, \"html5lib\")\n",
    "print(type(soup))\n",
    "end = time.time()\n",
    "print(end - start)\n",
    "\n",
    "\n",
    "# veloce e indulgente\n",
    "start = time.time()\n",
    "soup = bs.BeautifulSoup(req.text, \"lxml\")\n",
    "print(type(soup))\n",
    "end = time.time()\n",
    "print(end - start)"
   ]
  },
  {
   "cell_type": "markdown",
   "id": "0f8d3a5b",
   "metadata": {},
   "source": [
    "La funzione get_text estrae l'intero testo (rimuovendo quindi i tag)."
   ]
  },
  {
   "cell_type": "code",
   "execution_count": null,
   "id": "bbbaa267",
   "metadata": {},
   "outputs": [],
   "source": [
    "soup.get_text()"
   ]
  },
  {
   "cell_type": "markdown",
   "id": "aa6579ba",
   "metadata": {},
   "source": [
    "Spesso è meglio accedere ad elementi specifici del testo. Lo possiamo fare direttamente lavorando con gli attributi della nostra soup."
   ]
  },
  {
   "cell_type": "code",
   "execution_count": null,
   "id": "b42763c6",
   "metadata": {},
   "outputs": [],
   "source": [
    "soup.title"
   ]
  },
  {
   "cell_type": "code",
   "execution_count": null,
   "id": "7ebc77a5",
   "metadata": {},
   "outputs": [],
   "source": [
    "soup.title.name"
   ]
  },
  {
   "cell_type": "code",
   "execution_count": null,
   "id": "ff945ce1",
   "metadata": {},
   "outputs": [],
   "source": [
    "print(soup.a)"
   ]
  },
  {
   "cell_type": "code",
   "execution_count": null,
   "id": "fbb2ca33",
   "metadata": {},
   "outputs": [],
   "source": [
    "print(type(soup.a))"
   ]
  },
  {
   "cell_type": "code",
   "execution_count": null,
   "id": "b345071e",
   "metadata": {},
   "outputs": [],
   "source": [
    "print(soup.a.next)"
   ]
  },
  {
   "cell_type": "code",
   "execution_count": null,
   "id": "505d9fb9",
   "metadata": {},
   "outputs": [],
   "source": [
    "print(soup.a.next.next.next.next.next)"
   ]
  },
  {
   "cell_type": "code",
   "execution_count": null,
   "id": "dad2b619",
   "metadata": {},
   "outputs": [],
   "source": [
    "# stampa il primo link, i suoi attributi sono class, href, id, title\n",
    "print(soup.a)"
   ]
  },
  {
   "cell_type": "code",
   "execution_count": null,
   "id": "2099ad21",
   "metadata": {},
   "outputs": [],
   "source": [
    "# posso accedere agli attributi del mio link usando le parentesi []\n",
    "print(soup.a[\"href\"])\n",
    "print(soup.a[\"class\"])"
   ]
  },
  {
   "cell_type": "code",
   "execution_count": null,
   "id": "024ddc39",
   "metadata": {},
   "outputs": [],
   "source": [
    "for child in soup.title.children:\n",
    "    print(child)"
   ]
  },
  {
   "cell_type": "code",
   "execution_count": null,
   "id": "7c528956",
   "metadata": {},
   "outputs": [],
   "source": [
    "# trova il prossimo tag <a>\n",
    "soup.find('a')"
   ]
  },
  {
   "cell_type": "code",
   "execution_count": null,
   "id": "47e3b062",
   "metadata": {},
   "outputs": [],
   "source": [
    "# trova tutti i tag <a>\n",
    "all_links = soup.find_all('a')\n",
    "print(all_links[0:2])"
   ]
  },
  {
   "cell_type": "code",
   "execution_count": null,
   "id": "2fc29365",
   "metadata": {},
   "outputs": [],
   "source": [
    "# ricerca di più elementi\n",
    "hs = soup.find_all(['h1','h2', 'h3'])\n",
    "print(hs[0:3])"
   ]
  },
  {
   "cell_type": "code",
   "execution_count": null,
   "id": "740c8daf",
   "metadata": {},
   "outputs": [],
   "source": [
    "# cerca tutti gli elementi con un attributo 'href'\n",
    "soup.find_all(href=True)"
   ]
  },
  {
   "cell_type": "code",
   "execution_count": null,
   "id": "b6579b65",
   "metadata": {
    "scrolled": true
   },
   "outputs": [],
   "source": [
    "# possiamo fare ricerche anche sugli attributi\n",
    "# cerca solo elementi in cui l'attributo id è 'tab2'\n",
    "soup.find_all(id=\"tab2\")"
   ]
  },
  {
   "cell_type": "markdown",
   "id": "edb274a6",
   "metadata": {},
   "source": [
    "## Esempio"
   ]
  }
 ],
 "metadata": {
  "kernelspec": {
   "display_name": "Python 3",
   "language": "python",
   "name": "python3"
  },
  "language_info": {
   "codemirror_mode": {
    "name": "ipython",
    "version": 3
   },
   "file_extension": ".py",
   "mimetype": "text/x-python",
   "name": "python",
   "nbconvert_exporter": "python",
   "pygments_lexer": "ipython3",
   "version": "3.8.10"
  }
 },
 "nbformat": 4,
 "nbformat_minor": 5
}
