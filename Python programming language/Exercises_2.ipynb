{
 "cells": [
  {
   "cell_type": "markdown",
   "id": "143fdaa8",
   "metadata": {},
   "source": [
    "# Esercizio 1\n",
    "Nel gioco \"indovina il numero\" il computer sceglie un numero segreto da 1 a 100 (inclusi), e l'utente deve indovinare il numero nel minor numero di tentativi possibili.\n",
    "Il gioco deve fornire un prompt all'utente per inserire il numero, e si deve assicurare che l'input sia valido (ovvero deve essere un numero da 1 a 100). In caso di input invalido, il gioco deve chiedere un nuovo numero, senza generare errori.\n",
    "Il gioco termina quando il numero inserito è uguale al numero segreto. Se il numero inserito è più basso (risp. alto) del numero segreto, il sistema deve informare l'utente stampando la stringa 'troppo basso' (ris. 'troppo alto').\n",
    "\n",
    "Il gioco deve anche tenere traccia del numero di tentativi usati prima di vincere (escludendo casi di input invalido). In caso di vittoria, il programma stampa il numero di tentativi necessari."
   ]
  },
  {
   "cell_type": "code",
   "execution_count": 2,
   "id": "ec025bb9",
   "metadata": {},
   "outputs": [
    {
     "name": "stdout",
     "output_type": "stream",
     "text": [
      "38\n",
      "Too low\n",
      "Too high\n",
      "Right\n"
     ]
    }
   ],
   "source": [
    "from random import randint\n",
    "\n",
    "segreto = randint(1, 100)\n",
    "tentativi = 0\n",
    "inserted = 0\n",
    "trial = 0\n",
    "while True:\n",
    "    while trial < 1 or trial > 100:\n",
    "        trial = int(input(\"Insert a number \"))\n",
    "    tentativi += 1\n",
    "    if trial == segreto:\n",
    "        print(\"Right\")\n",
    "        break\n",
    "    elif trial > segreto:\n",
    "        print(\"Too high\")\n",
    "    else:\n",
    "        print (\"Too low\")\n"
   ]
  },
  {
   "cell_type": "markdown",
   "id": "270f38d9",
   "metadata": {},
   "source": [
    "# Esercizio 2\n",
    "Implementate una funzione `invert_dict(d)` che prende un dizionario d e costruisce un nuovo dizionario invertito d', ovvero un dizionario che per ogni coppia chiave-valore di d contiene una coppia valore-chiave, in cui la chiave originale diventa il valore e il valore originale diventa la chiave. Le chiavi di un dizionario sono univoche, mentre i valori non devono esserlo. Se la funzione trova più di una chiave con lo stesso valore, deve sollevare un eccezione di tipo `ValueError(\"unique inversion is not possible\")`.\n",
    "Per esempio, il dizionario `numeri = {'uno':1, 'due':2, 'tre':3}` verrà trasformato in `{1:'uno', 2:'due', 3:'tre'}`, mentre `gambe = {'uomo' : 2, 'gatto': 4, 'lampada' :1, 'cane':4 }` non può essere invertito (4 dovrebbe puntare sia a gatto che a cane).\n",
    "\n",
    "Implementate poi il metodo `invert_dict_multi(d)` che opera nello stesso modo di `invert_dict(d)`, ma puntando a una lista di chiavi, invece che a una singola chiave. Quindi se più di una chiave punta allo stesso elemento non sollevo eccezioni.\n",
    "Per esempio, `gambe = {'uomo' : 2, 'gatto': 4, 'lampada' :1, 'cane':4 }` deve costruire il dizionario invertito `{2: ['uomo'], 4: ['gatto', 'cane'], 1: ['lampada']}`."
   ]
  },
  {
   "cell_type": "code",
   "execution_count": 4,
   "id": "6b588f01",
   "metadata": {},
   "outputs": [
    {
     "name": "stdout",
     "output_type": "stream",
     "text": [
      "{1: 'uno', 2: 'due', 3: 'tre'}\n",
      "Unique inversion is not possible\n",
      "{1: ['uno'], 2: ['due'], 3: ['tre']}\n",
      "{2: ['uomo'], 4: ['gatto', 'cane'], 1: ['lampada']}\n"
     ]
    }
   ],
   "source": [
    "def invert_dict(d : dict) -> dict:\n",
    "    inverted = dict()\n",
    "    for key, val in d.items():\n",
    "        if not(inverted.get(val, None) == None):\n",
    "            return \"Unique inversion is not possible\"\n",
    "        inverted[val] = key\n",
    "    return inverted\n",
    "\n",
    "        \n",
    "\n",
    "def invert_dict_multi(d : dict) -> dict:\n",
    "    inverted1 = dict()\n",
    "    for key, val in d.items():\n",
    "        l = inverted1.get(val, [])\n",
    "        if val in inverted1.keys():\n",
    "            l.append(key)\n",
    "            inverted1[val] = l\n",
    "        else:\n",
    "            inverted1[val] = list()\n",
    "            inverted1[val] = [key]\n",
    "    return inverted1\n",
    "\n",
    "\n",
    "numeri = {'uno':1, 'due':2, 'tre':3}\n",
    "gambe = {'uomo' : 2, 'gatto': 4, 'lampada' :1, 'cane':4 }\n",
    "\n",
    "try:\n",
    "    print(invert_dict(numeri))\n",
    "except ValueError as err:\n",
    "    print(err.args[0])\n",
    "    \n",
    "try:\n",
    "    print(invert_dict(gambe))\n",
    "except ValueError as err:\n",
    "    print(err.args[0])\n",
    "    \n",
    "try:\n",
    "    print(invert_dict_multi(numeri))\n",
    "except ValueError as err:\n",
    "    print(err.args[0])\n",
    "\n",
    "try:\n",
    "    print(invert_dict_multi(gambe))\n",
    "except ValueError as err:\n",
    "    print(err.args[0])"
   ]
  },
  {
   "cell_type": "markdown",
   "id": "08fbdda1",
   "metadata": {},
   "source": [
    "# Esercizio 3\n",
    "Il [cifrario di cesare](https://it.wikipedia.org/wiki/Cifrario_di_Cesare) è un noto e semplice algoritmo crittografico. L'algoritmo prende una stringa e una chiave (un numero n), e sposta tutti i caratteri della stringa di n posizioni nell'alfabeto. Se uno spostamento supera la 'z', si ricomincia a contare dalla 'a'. Per esempio, la stringa `abz` e la chiave `2` mi generare la stringa cifrata `cdb`.\n",
    "\n",
    "Implementate le funzioni `cripta(testo, chiave)` che cripta un testo usando il cifrario di cesare, e la funzione `decripta(testo, chiave)` che fa l'operazione inversa. Assumete che le stringhe contengano solo caratteri (maiuscoli e minuscoli) e spazi. Gli spazi non devono essere cambiati, mentre i caratteri devono essere spostati (rispettando maiuscole e minuscole).\n",
    "\n",
    "In python, ogni carattere è identificato da un numero intero. Potete ottenere questo numero usando la funzione `ord('a')`, che può essere utile per trasformare le lettere in numeri e implementare il cifrario. La funzione `chr(n)` fa l'operazione inversa, trasforma numeri in caratteri."
   ]
  },
  {
   "cell_type": "code",
   "execution_count": 18,
   "id": "8be0a9b8",
   "metadata": {},
   "outputs": [
    {
     "name": "stdout",
     "output_type": "stream",
     "text": [
      "97 65\n",
      "a\n",
      "cdb\n",
      "abz\n"
     ]
    }
   ],
   "source": [
    "def cripta(testo : str, chiave : int) -> str:\n",
    "    result = ''\n",
    "    for c in testo:\n",
    "        int = ord(c) + chiave if ord(c) != 32 else 32\n",
    "        if int > ord('z') and c.islower():\n",
    "            bias = int - ord('z')\n",
    "            int = bias + ord('a') - 1\n",
    "        if int > ord('Z') and c.isupper():\n",
    "            bias = int - ord('Z')\n",
    "            int = bias + ord('A') - 1 \n",
    "        result += chr(int)\n",
    "    return result\n",
    "\n",
    "def decripta(testo : str, chiave : int) -> str:\n",
    "    result = ''\n",
    "    for c in testo:\n",
    "        int = ord(c) - chiave if ord(c) != 32 else 32\n",
    "        if int < ord('a') and c.islower():\n",
    "            bias = abs(int - ord('a'))\n",
    "            int = ord('z') - bias + 1\n",
    "        if int > ord('A') and c.isupper():\n",
    "            bias = abs(int - ord('Z'))\n",
    "            int = ord('A') - bias + 1 \n",
    "        result += chr(int)\n",
    "    return result\n",
    "\n",
    "# esempio di ord e chr\n",
    "print(ord('a'), ord('A'))\n",
    "print(chr(ord('a')))\n",
    "\n",
    "encription = cripta('abz', 2)\n",
    "print(encription)\n",
    "print(decripta(encription, 2))"
   ]
  },
  {
   "cell_type": "markdown",
   "id": "5c7c5d43",
   "metadata": {},
   "source": [
    "# Esercizio 4\n",
    "Il file `experiment_data.csv` contiene i risultati di un esperimento. I dati sono raccolti in tre colonne, e i valori sono separati da virgole. Ogni riga rappresenta il risultato di un esperimento, fatta eccezione per la prima riga, che contiene il nome delle colonne (*misure, potenza, guadagno*). La prima colonna contiene numeri interi, mentre le altre due contengono numeri reali.\n",
    "\n",
    "Implementate una funzione `carica_esperimento(nome_file)` che riceve il nome di un file e ritorna tre liste, la prima conterrà tutti i valori della colonna *misure* (come interi), la seconda tutti i valori della colonna *potenza* (come float), la terza tutti i valori della colonna *guadagno* (come float).\n",
    "\n",
    "Scrivete poi una funzione `media(l)` e `mediana(l)` che ritornano rispettivamente la [media aritmetica](https://it.wikipedia.org/wiki/Media_(statistica)) e la [mediana](https://it.wikipedia.org/wiki/Mediana_(statistica)) di una lista di numeri `l`, e usate queste funzioni per calcolare e stampare a schermo media e mediana di *potenza* e *guadagno*.\n",
    "\n",
    "Costruite poi due dizionari. Il primo mappa ogni possibile valore della colonna *misure* (un valore intero da 35 a 45) alla lista di valori di *potenza* associati a quel numero di misure effettuate. Il secondo crea un mapping simile, ma per i valori di *guadagno*. Calcolare infine la potenza media e il guadagno medio per ogni valore di misura."
   ]
  },
  {
   "cell_type": "code",
   "execution_count": 14,
   "id": "824c9e13",
   "metadata": {},
   "outputs": [
    {
     "name": "stdout",
     "output_type": "stream",
     "text": [
      "10.229693183999998\n",
      "10.325475\n",
      "-0.11379348206194238\n",
      "-0.14476228710023703\n",
      "36 9.943165851063833\n",
      "44 10.23287315\n",
      "38 10.198617771739126\n",
      "43 10.106834768292682\n",
      "42 10.589167011111112\n",
      "37 10.361644308510638\n",
      "39 10.367781009259264\n",
      "45 10.290823364583334\n",
      "35 10.607978109375\n",
      "41 10.38269830232558\n",
      "40 10.271483388888896\n",
      "36 9.943165851063833\n",
      "44 10.23287315\n",
      "38 10.198617771739126\n",
      "43 10.106834768292682\n",
      "42 10.589167011111112\n",
      "37 10.361644308510638\n",
      "39 10.367781009259264\n",
      "45 10.290823364583334\n",
      "35 10.607978109375\n",
      "41 10.38269830232558\n",
      "40 10.271483388888896\n"
     ]
    }
   ],
   "source": [
    "#import random\n",
    "#\n",
    "#print('misure,potenza,guadagno')\n",
    "#for i in range(500):\n",
    "#    print(f'{random.randint(35, 45)},{random.gauss(10.3, 1.5):3f},{random.gauss(0, 2)}')\n",
    "import pandas as pd\n",
    "\n",
    "def carica_esperimento(nome_file):\n",
    "    file = pd.read_csv(nome_file)\n",
    "    misure = list(file['misure'])\n",
    "    potenza = list(file['potenza'])\n",
    "    guadagno = list(file['guadagno'])\n",
    "    return misure, potenza, guadagno\n",
    "\n",
    "def media(l):\n",
    "    somma = 0\n",
    "    for i in l:\n",
    "        somma = somma + i\n",
    "    return somma/len(l)\n",
    "\n",
    "def mediana(l):\n",
    "    l.sort()\n",
    "    if len(l) % 2 == 1:\n",
    "        return l[len(l)/2]\n",
    "    else:\n",
    "        length = len(l)\n",
    "        somma = l[int(length/2) - 1] + l[int(length/2)]\n",
    "        return somma/2\n",
    "\n",
    "\n",
    "misure, potenza, guadagno = carica_esperimento('experiment_data.csv')\n",
    "\n",
    "# stampa media e mediana di potenza e guadagno\n",
    "\n",
    "print(media(potenza))\n",
    "print(mediana(potenza))\n",
    "print(media(guadagno))\n",
    "print(mediana(guadagno))\n",
    "\n",
    "# costuire i dizionar\n",
    "mis_potenza = dict()\n",
    "mis_guadagno = dict()\n",
    "pos = 0\n",
    "\n",
    "for el in misure:\n",
    "    l = mis_potenza.get(el, [])\n",
    "    l1 = mis_guadagno.get(el, [])\n",
    "    if el in mis_potenza.keys():\n",
    "        l.append(potenza[pos])\n",
    "        mis_potenza[el] = l\n",
    "    else:\n",
    "        mis_potenza[el] = list()\n",
    "        mis_potenza[el] = [potenza[pos]]\n",
    "    \n",
    "    if el in mis_guadagno.keys():\n",
    "        l1.append(potenza[pos])\n",
    "        mis_guadagno[el] = l\n",
    "    else:\n",
    "        mis_guadagno[el] = list()\n",
    "        mis_guadagno[el] = [guadagno[pos]]\n",
    "    pos +=1\n",
    "\n",
    "# calcolo media per mis_potenza\n",
    "for mis, pot in mis_potenza.items():\n",
    "    avg = media(pot)\n",
    "    print(str(mis) + \" \" + str(avg))\n",
    "\n",
    "for mis, guad in mis_guadagno.items():\n",
    "    avg = media(guad)\n",
    "    print(str(mis) + \" \" + str(avg))"
   ]
  },
  {
   "cell_type": "markdown",
   "id": "ec58e5c4",
   "metadata": {},
   "source": [
    "# Esercizio 5 - extra\n",
    "esercizio facoltativo per gli studenti che vogliono esplorare il concetto di ricorsione. Considerate il Problema 5.6 di think python 2e. Esso affronta il problema di stampare un frattale, ovvero una figura geometria costruita ricorsivamente, usando la libreria turtle. Il libro di testo fornisce consigli e soluzioni su come disegnare un [fiocco di neve di koch](https://it.wikipedia.org/wiki/Curva_di_Koch) e può essere un buon esercizio per capire meglio il funzionamento delle funzioni ricorsive."
   ]
  }
 ],
 "metadata": {
  "kernelspec": {
   "display_name": "Python 3",
   "language": "python",
   "name": "python3"
  },
  "language_info": {
   "codemirror_mode": {
    "name": "ipython",
    "version": 3
   },
   "file_extension": ".py",
   "mimetype": "text/x-python",
   "name": "python",
   "nbconvert_exporter": "python",
   "pygments_lexer": "ipython3",
   "version": "3.8.8"
  }
 },
 "nbformat": 4,
 "nbformat_minor": 5
}
