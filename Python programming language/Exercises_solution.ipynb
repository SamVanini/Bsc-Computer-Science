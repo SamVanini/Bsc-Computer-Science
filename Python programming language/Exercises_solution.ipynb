{
 "cells": [
  {
   "cell_type": "markdown",
   "id": "2e6e88df",
   "metadata": {},
   "source": [
    "# Esercizio 1\n",
    "Un metodo numerico che si può usare per calcolare, in modo approssimato, la radice quadrata di un numero è il [metodo di newton](https://en.wikipedia.org/wiki/Newton%27s_method).\n",
    "Questo metodo parte da una prima stima della radice e migliora iterativamente il valore, avvicinandosi al risultato.\n",
    "Se vogliamo calcolare la radice quadrata di $x$, partendo dalla stima $s$, possiamo ottenere una stima migliore $s'$ usando la formula\n",
    "\\begin{equation}\n",
    "s' = \\frac{s + \\frac{x}{s}}{2}\n",
    "\\end{equation}\n",
    "Per esempio, se vogliamo calcolare la radice di 4 partendo dalla stima 4, otteniamo 2.5. Se applichiamo lo stesso metodo (usando 2.5 al posto di 4 come stima) otteniamo 2.05, un valore sempre più vicino al valore vero (2).\n",
    "\n",
    "Scrivete la funzione `migliora_stima(val, stima)`, che implementa la formula del metodo di newton per migliorare (di un passo) la stima della radice del numero val. Esso deve ritornare il valore migliorato della stima.\n",
    "Implementate poi la funzione `newton(val, stima)`, che prende un valore e una stima, e continua ad applicare `migliora_stima` finché la differenza tra due passi di miglioramento è < 0.0001. La funzione deve infine ritornare questa stima della radice.\n",
    "\n",
    "Potete confrontare la vostra tecnica con la funzione matematica `math.sqrt(val)`."
   ]
  },
  {
   "cell_type": "code",
   "execution_count": 62,
   "id": "b1f88e77",
   "metadata": {},
   "outputs": [
    {
     "name": "stdout",
     "output_type": "stream",
     "text": [
      "2.000000000021489\n",
      "2.000000000030325\n",
      "4.123105625623046\n",
      "2.0 4.123105625617661\n"
     ]
    }
   ],
   "source": [
    "import math\n",
    "\n",
    "def migliora_stima(val, stima):\n",
    "    return (stima + val/stima) / 2\n",
    "\n",
    "def newton(val, stima):\n",
    "    while True:\n",
    "        nuova_stima = migliora_stima(val, stima)\n",
    "        if abs(nuova_stima - stima) < 0.0001:\n",
    "            return nuova_stima\n",
    "        stima = nuova_stima\n",
    "\n",
    "print(newton(4, 10))\n",
    "print(newton(4, 0.05))\n",
    "print(newton(17, 10))\n",
    "\n",
    "print(math.sqrt(4), math.sqrt(17))"
   ]
  },
  {
   "cell_type": "code",
   "execution_count": 63,
   "id": "f65cb78a",
   "metadata": {},
   "outputs": [
    {
     "name": "stdout",
     "output_type": "stream",
     "text": [
      "2.000000000021489\n",
      "2.000000000030325\n",
      "4.123105625623046\n",
      "2.0 4.123105625617661\n"
     ]
    }
   ],
   "source": [
    "# soluzione alternativa con ricorsione\n",
    "import math\n",
    "\n",
    "def migliora_stima(val, stima):\n",
    "    return (stima + val/stima) / 2\n",
    "\n",
    "def newton(val, stima):\n",
    "    nuova_stima = migliora_stima(val, stima)\n",
    "    if abs(nuova_stima - stima) < 0.0001:\n",
    "        return nuova_stima\n",
    "    else:\n",
    "        return newton(val, nuova_stima)\n",
    "\n",
    "print(newton(4, 10))\n",
    "print(newton(4, 0.05))\n",
    "print(newton(17, 10))\n",
    "\n",
    "print(math.sqrt(4), math.sqrt(17))"
   ]
  },
  {
   "cell_type": "markdown",
   "id": "2b8241ff",
   "metadata": {},
   "source": [
    "# Esercizio 2\n",
    "Vogliamo indagare la validità dell'[ultimo teorema di fermat](https://en.wikipedia.org/wiki/Fermat%27s_Last_Theorem).\n",
    "Esso afferma che, dati tre numeri interi positivi $a, b, $ e $c$ e un numero intero $n$ maggiore o uguale a 2, l'espressione\n",
    "\\begin{equation}\n",
    "a^n + b^n = c^n\n",
    "\\end{equation}\n",
    "può essere vera se e solo se n è uguale a 2.\n",
    "Scrivete una funzione `verifica_fermat(a, b, c, n)` che verifica la validità del teorema in una data istanza.\n",
    "Questa funzione deve ritornare True se il teorema vale, o False altrimenti.\n",
    "\n",
    "Scrivete il metodo `testa_teorema(max_num, max_pot)` che serve a testare il teorema più volte. Esso deve usare `verifica_fermat` per ogni combinazione di $a, b, c$ con i numeri compre tra 1 e `max_num`, e li deve testare provando tutte le potenze comprese tra 2 e `max_pot`. Notate che `max_num` e `max_pot` devono essere inclusi nella ricerca.\n",
    "Per esempio, `testa_teorema(3, 3)` proverà a mettere $1, 2, 3$ in $a, b, c$ (in tutte le combinazioni possibili (1, 1, 1), (1, 1, 2), ...); proverà questo combinazioni usando $n = 2$ e $n = 3$.\n",
    "Se `testa_teorema` trova un caso in cui `verifica_fermat` è falso, esso deve stampare \"ho trovato un controesempio\" e fermarsi.\n",
    "Se invece alla fine di tutto non ha trovato nessun controesempio, esso deve stampare \"non ho trovato controesempi\"."
   ]
  },
  {
   "cell_type": "code",
   "execution_count": 81,
   "id": "8bf4dc16",
   "metadata": {
    "scrolled": true
   },
   "outputs": [
    {
     "name": "stdout",
     "output_type": "stream",
     "text": [
      "True\n",
      "True\n"
     ]
    }
   ],
   "source": [
    "# soluzione con cicli for innestati\n",
    "def verifica_fermat(a, b, c, n):\n",
    "    if n == 2:\n",
    "        return True\n",
    "    return not a**n + b**n == c**n\n",
    "\n",
    "def testa_teorema(max_num, max_pot):\n",
    "    for x in range(1, max_num + 1):\n",
    "        for y in range(1, max_num + 1):\n",
    "            for z in range(1, max_num + 1):\n",
    "                for n in range(2, max_pot + 1):\n",
    "                    if not verifica_fermat(x, y, z, n):\n",
    "                        return False\n",
    "    return True\n",
    "\n",
    "print(testa_teorema(100, 3))\n",
    "print(testa_teorema(20, 5))"
   ]
  },
  {
   "cell_type": "code",
   "execution_count": 79,
   "id": "3bdd0d38",
   "metadata": {},
   "outputs": [
    {
     "name": "stdout",
     "output_type": "stream",
     "text": [
      "True\n",
      "True\n"
     ]
    }
   ],
   "source": [
    "# soluzione con range e list comprehension\n",
    "def verifica_fermat(a, b, c, n):\n",
    "    return n == 2 or not (a**n + b**n == c**n)\n",
    "\n",
    "def testa_teorema(max_num, max_pot):\n",
    "    num_gen = range(1, max_num + 1)\n",
    "    pot_gen = range(2, max_pot + 1)\n",
    "    # all è vera se tutti gli elementi sono very. any() è simile, vera se almeno un elemento è vero\n",
    "    return all([verifica_fermat(x, y, z, n) for x in num_gen for y in num_gen for z in num_gen for n in pot_gen])\n",
    "\n",
    "print(testa_teorema(100, 3))\n",
    "print(testa_teorema(20, 5))"
   ]
  },
  {
   "cell_type": "markdown",
   "id": "434a88ae",
   "metadata": {},
   "source": [
    "# Esercizio 3\n",
    "Una tripletta di numeri che soddisfa il teorema quando $n = 2$ è nota come terna pitagoriga. Per esempio, (3, 4, 5) è una terna pittagorica corretta, perché $3^2 + 4^2 = 9 + 16 = 25 = 5^2$.\n",
    "Scrivere una funzione `terna_corretta(a, b, c)` che ritorni `True` se $a, b, c$ sono una terna pitagorica. Notate che l'ordine è importante, confronto sempre la somma delle potenze dei primi due elementi con la potenza del terzo elemento.\n",
    "\n",
    "Implementate poi la funzione `colleziona_terne(max_n)`. Questa funzione ritorna una lista di tuple che sono terne pitagoriche. Essa testa tutte le terne $(a, b, c)$ instanziate con tutte le possibili combinazioni di valori tra 1 e `max_n` (incluso). Usate la funzione `terna_corretta(a, b, c)` per identificare quali combinazioni vanno aggiunte alla collezione.\n",
    "Per esempio, `colleziona_terne(10)` ritorna la lista `[(3, 4, 5), (4, 3, 5), (6, 8, 10), (8, 6, 10)]`"
   ]
  },
  {
   "cell_type": "code",
   "execution_count": 82,
   "id": "537adc00",
   "metadata": {
    "scrolled": true
   },
   "outputs": [
    {
     "name": "stdout",
     "output_type": "stream",
     "text": [
      "[(3, 4, 5), (4, 3, 5), (6, 8, 10), (8, 6, 10)]\n"
     ]
    }
   ],
   "source": [
    "def terna_corretta(a, b, c):\n",
    "    return a**2 + b**2 == c**2\n",
    "\n",
    "def colleziona_terne(max_n):\n",
    "    risultato = []\n",
    "    for x in range(1, max_n + 1):\n",
    "        for y in range(1, max_n + 1):\n",
    "            for z in range(1, max_n + 1):\n",
    "                if terna_corretta(x, y, z):\n",
    "                    risultato.append((x, y, z))\n",
    "    return risultato\n",
    "\n",
    "print(colleziona_terne(10))"
   ]
  },
  {
   "cell_type": "code",
   "execution_count": 25,
   "id": "525014e9",
   "metadata": {},
   "outputs": [
    {
     "name": "stdout",
     "output_type": "stream",
     "text": [
      "[(3, 4, 5), (4, 3, 5), (6, 8, 10), (8, 6, 10)]\n"
     ]
    }
   ],
   "source": [
    "# soluzione alternativa con list comprehension\n",
    "def terna_corretta(a, b, c):\n",
    "    return a**2 + b**2 == c**2\n",
    "\n",
    "def colleziona_terne(max_n):\n",
    "    gen = range(1, max_n + 1)\n",
    "    return [(x, y, z) for x in gen for y in gen for z in gen if terna_corretta(x, y, z)]\n",
    "\n",
    "print(colleziona_terne(10))"
   ]
  },
  {
   "cell_type": "markdown",
   "id": "f39798a2",
   "metadata": {},
   "source": [
    "# Esercizio 4\n",
    "Implementate la funzione `nested_sum(l)`. Essa riceve in input una lista di liste di numeri interi $l$ e deve calcolare la somma di tutti i numeri presenti nelle liste contenute in `l`. Per esempio, `nested_sum(([[1,2,3], [5], [-1 , -1, -1]])` mi deve ritornare il valore `8`.\n",
    "\n",
    "Implementate la funzione `nested_compact(l)`. Essa riceve in input una lista di liste di numeri interi $l$ e deve costruire una nuova lista che contiene i numeri di $l$, ma senza ripetizioni. L'ordine dei numeri deve essere preservato, se un numero appare più volte, solo la primo occorrenza deve essere inserita nella lista finale.\n",
    "Per esempio, `nested_compact([[1, 2, 3], [-1, 3], [-2, -2]])` deve ritornare la lista `[1, 2, 3, -1, -2]`"
   ]
  },
  {
   "cell_type": "code",
   "execution_count": 90,
   "id": "bcea668a",
   "metadata": {
    "scrolled": true
   },
   "outputs": [
    {
     "name": "stdout",
     "output_type": "stream",
     "text": [
      "8\n",
      "[1, 2, 3, -1, -2]\n"
     ]
    }
   ],
   "source": [
    "def nested_sum(l):\n",
    "    total = 0\n",
    "    for sublist in l:\n",
    "        for num in sublist:\n",
    "            total += num\n",
    "    return total\n",
    "\n",
    "def nested_compact(l):\n",
    "    risultato = list()\n",
    "    for sublist in l:\n",
    "        for num in sublist:\n",
    "            if not num in risultato:\n",
    "                risultato.append(num)\n",
    "    return risultato\n",
    "\n",
    "print(nested_sum(([[1,2,3], [5], [-1 , -1, -1]])))\n",
    "print(nested_compact([[1, 2, 3], [-1, 3], [-2, -2]]))"
   ]
  },
  {
   "cell_type": "code",
   "execution_count": 89,
   "id": "e03be018",
   "metadata": {},
   "outputs": [
    {
     "name": "stdout",
     "output_type": "stream",
     "text": [
      "8\n",
      "[1, 2, 3, -1, -2]\n"
     ]
    }
   ],
   "source": [
    "# soluzione alternativa con funzione sum\n",
    "def nested_sum(l):\n",
    "    return sum([num for sublist in l for num in sublist])\n",
    "\n",
    "# soluzione alternativa con l'uso di set\n",
    "def nested_compact(l):\n",
    "    # un set raccoglie elementi elementi elementi univoci.\n",
    "    # come nei dizionari, l'ordine non è garantito\n",
    "    visti = set()\n",
    "    risultato = list()\n",
    "    for sublist in l:\n",
    "        for num in sublist:\n",
    "            if not num in risultato:\n",
    "                risultato.append(num)\n",
    "                visti.add(num)\n",
    "    return risultato\n",
    "\n",
    "print(nested_sum(([[1,2,3], [5], [-1 , -1, -1]])))\n",
    "print(nested_compact([[1, 2, 3], [-1, 3], [-2, -2]]))\n"
   ]
  },
  {
   "cell_type": "markdown",
   "id": "98b8b484",
   "metadata": {},
   "source": [
    "# Esercizio 5\n",
    "Scrivere una funzione `esclamazioni(l)` che riceve una lista di stringhe e ritorna una nuova lista che segue i seguenti parametri:\n",
    "1. se una stringa non contiene il carattere `a` deve essere ignorata\n",
    "2. le stringhe che contengono il carattere `a` devono essere modificate, aggiungendo la stringa \"a \" prima della stringa originale, e la stringa \"!!!\" alla fine.\n",
    "3. infine, la lista finale deve essere ordinata in ordine alfabetico\n",
    "\n",
    "Per esempio, `esclamazioni([\"zebra\", ,\"lion\", \"gorilla\", \"tiger\"])` deve ritornare la lista `[\"a gorilla!!!\", \"a zebra!!!\"]`"
   ]
  },
  {
   "cell_type": "code",
   "execution_count": 91,
   "id": "507a889a",
   "metadata": {
    "scrolled": true
   },
   "outputs": [
    {
     "name": "stdout",
     "output_type": "stream",
     "text": [
      "['a gorilla!', 'a zebra!']\n"
     ]
    }
   ],
   "source": [
    "def esclamazioni(l):\n",
    "    soluzione = []\n",
    "    for parola in l:\n",
    "        if not 'a' in parola:\n",
    "            continue\n",
    "        soluzione.append('a ' + parola + '!')\n",
    "    soluzione.sort()\n",
    "    return soluzione\n",
    "\n",
    "print(esclamazioni([\"zebra\", \"lion\", \"gorilla\", \"tiger\"]))"
   ]
  },
  {
   "cell_type": "code",
   "execution_count": 78,
   "id": "c8a029e0",
   "metadata": {},
   "outputs": [
    {
     "name": "stdout",
     "output_type": "stream",
     "text": [
      "['a gorilla!', 'a zebra!']\n"
     ]
    }
   ],
   "source": [
    "# soluzione alternativa con list comprehension\n",
    "def esclamazioni(l):\n",
    "    # sorted mi ritorna una lista ordinata (invece .sort() ordina la lista e ritorna None)\n",
    "    return sorted(['a ' + parola + '!' for parola in l if 'a' in parola])\n",
    "\n",
    "print(esclamazioni([\"zebra\", \"lion\", \"gorilla\", \"tiger\"]))"
   ]
  }
 ],
 "metadata": {
  "kernelspec": {
   "display_name": "Python 3",
   "language": "python",
   "name": "python3"
  },
  "language_info": {
   "codemirror_mode": {
    "name": "ipython",
    "version": 3
   },
   "file_extension": ".py",
   "mimetype": "text/x-python",
   "name": "python",
   "nbconvert_exporter": "python",
   "pygments_lexer": "ipython3",
   "version": "3.8.10"
  }
 },
 "nbformat": 4,
 "nbformat_minor": 5
}
