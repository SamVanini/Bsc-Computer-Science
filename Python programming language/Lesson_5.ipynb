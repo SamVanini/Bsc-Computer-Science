{
 "cells": [
  {
   "cell_type": "code",
   "execution_count": 3,
   "id": "85f3d9f7",
   "metadata": {
    "scrolled": false
   },
   "outputs": [
    {
     "name": "stdout",
     "output_type": "stream",
     "text": [
      "tutti\n"
     ]
    }
   ],
   "source": [
    "l = ['ciao', 'a', 'tutti']\n",
    "print(l[2])"
   ]
  },
  {
   "cell_type": "code",
   "execution_count": 5,
   "id": "8dc65466",
   "metadata": {
    "scrolled": false
   },
   "outputs": [
    {
     "name": "stdout",
     "output_type": "stream",
     "text": [
      "{40000: 30} {}\n"
     ]
    }
   ],
   "source": [
    "d1 = {40000:30,}\n",
    "d2 = dict()\n",
    "print(d1, d2)\n"
   ]
  },
  {
   "cell_type": "code",
   "execution_count": 14,
   "id": "ae2e26fc",
   "metadata": {
    "scrolled": false
   },
   "outputs": [
    {
     "name": "stdout",
     "output_type": "stream",
     "text": [
      "{'ciao': 'hello'}\n",
      "hello\n",
      "{'ciao': 'hello', 'gatto': 'cat'}\n",
      "{'ciao': 'hello', 'gatto': 'cat', 'cane': 'dog'}\n",
      "hello\n"
     ]
    }
   ],
   "source": [
    "ita2eng = dict()\n",
    "\n",
    "ita2eng['ciao'] = 'hello'\n",
    "print(ita2eng)\n",
    "print(ita2eng['ciao'])\n",
    "\n",
    "ita2eng['gatto'] = 'cat'\n",
    "print(ita2eng)\n",
    "\n",
    "ita2eng['cane'] = 'dog'\n",
    "print(ita2eng)\n",
    "print(ita2eng['ciao'])\n",
    "\n",
    "\n"
   ]
  },
  {
   "cell_type": "code",
   "execution_count": 75,
   "id": "a9c76fae",
   "metadata": {},
   "outputs": [],
   "source": [
    "#l = [1, 2, 3]\n",
    "#ita2eng[l] = '....'"
   ]
  },
  {
   "cell_type": "code",
   "execution_count": 76,
   "id": "b521fc6c",
   "metadata": {
    "scrolled": true
   },
   "outputs": [
    {
     "name": "stdout",
     "output_type": "stream",
     "text": [
      "ciao\n",
      "gatto\n",
      "cane\n"
     ]
    }
   ],
   "source": [
    "for key in ita2eng.keys():\n",
    "    print(key)"
   ]
  },
  {
   "cell_type": "code",
   "execution_count": 24,
   "id": "0b92c5b0",
   "metadata": {
    "scrolled": true
   },
   "outputs": [
    {
     "name": "stdout",
     "output_type": "stream",
     "text": [
      "Counter({'o': 6, 't': 5, ' ': 5, 'e': 3, 'l': 3, 'n': 3, 'a': 2, 's': 1, 'm': 1, 'u': 1, 'g': 1, 'c': 1, 'p': 1, 'r': 1})\n"
     ]
    }
   ],
   "source": [
    "from collections import Counter\n",
    "\n",
    "c = Counter('testo molto lungo con tante parole')\n",
    "print(c)"
   ]
  },
  {
   "cell_type": "code",
   "execution_count": 29,
   "id": "3e0faf91",
   "metadata": {
    "collapsed": true
   },
   "outputs": [
    {
     "name": "stdout",
     "output_type": "stream",
     "text": [
      "{'t': 5, 'e': 3, 's': 1, 'o': 6, ' ': 5, 'm': 1, 'l': 3, 'u': 1, 'n': 3, 'g': 1, 'c': 1, 'a': 2, 'p': 1, 'r': 1}\n"
     ]
    }
   ],
   "source": [
    "\n",
    "testo = 'testo molto lungo con tante parole'\n",
    "contatore = dict()\n",
    "for carattere in testo:\n",
    "    if carattere in contatore:\n",
    "        contatore[carattere] += 1\n",
    "    else:\n",
    "        contatore[carattere] = 1\n",
    "print(contatore)\n",
    "            \n",
    "    "
   ]
  },
  {
   "cell_type": "code",
   "execution_count": 32,
   "id": "5ee6c85d",
   "metadata": {},
   "outputs": [
    {
     "name": "stdout",
     "output_type": "stream",
     "text": [
      "inserisci una stringa: ciao\n"
     ]
    },
    {
     "ename": "ValueError",
     "evalue": "invalid literal for int() with base 10: 'ciao'",
     "output_type": "error",
     "traceback": [
      "\u001b[0;31m---------------------------------------------------------------------------\u001b[0m",
      "\u001b[0;31mValueError\u001b[0m                                Traceback (most recent call last)",
      "\u001b[0;32m<ipython-input-32-8fda1870d8d7>\u001b[0m in \u001b[0;36m<module>\u001b[0;34m\u001b[0m\n\u001b[0;32m----> 1\u001b[0;31m \u001b[0mstringa\u001b[0m \u001b[0;34m=\u001b[0m \u001b[0mint\u001b[0m\u001b[0;34m(\u001b[0m\u001b[0minput\u001b[0m\u001b[0;34m(\u001b[0m\u001b[0;34m'inserisci una stringa: '\u001b[0m\u001b[0;34m)\u001b[0m\u001b[0;34m)\u001b[0m\u001b[0;34m\u001b[0m\u001b[0;34m\u001b[0m\u001b[0m\n\u001b[0m\u001b[1;32m      2\u001b[0m \u001b[0mprint\u001b[0m\u001b[0;34m(\u001b[0m\u001b[0mstringa\u001b[0m \u001b[0;34m+\u001b[0m \u001b[0;34m'!'\u001b[0m\u001b[0;34m)\u001b[0m\u001b[0;34m\u001b[0m\u001b[0;34m\u001b[0m\u001b[0m\n",
      "\u001b[0;31mValueError\u001b[0m: invalid literal for int() with base 10: 'ciao'"
     ]
    }
   ],
   "source": [
    "stringa = input('inserisci una stringa: ')\n",
    "print(stringa + '!')"
   ]
  },
  {
   "cell_type": "code",
   "execution_count": 45,
   "id": "a8248e02",
   "metadata": {
    "scrolled": true
   },
   "outputs": [
    {
     "name": "stdout",
     "output_type": "stream",
     "text": [
      "inserisci un numero: 10\n",
      "12\n"
     ]
    }
   ],
   "source": [
    "n = int(float(input('inserisci un numero: ')))\n",
    "print(n + 2)"
   ]
  },
  {
   "cell_type": "code",
   "execution_count": 59,
   "id": "3a91d3f7",
   "metadata": {
    "scrolled": false
   },
   "outputs": [
    {
     "name": "stdout",
     "output_type": "stream",
     "text": [
      "[10, -2, 0, 5]\n",
      "False\n",
      "True\n"
     ]
    }
   ],
   "source": [
    "f = open('example.txt')\n",
    "lines = f.readlines()\n",
    "numeri = list()\n",
    "for l in lines:\n",
    "    if l == '\\n':\n",
    "        continue\n",
    "    numeri.append(int(l[:-1]))\n",
    "print(numeri)\n",
    "print(f.closed)\n",
    "f.close()\n",
    "print(f.closed)"
   ]
  },
  {
   "cell_type": "code",
   "execution_count": 68,
   "id": "da460aca",
   "metadata": {
    "scrolled": false
   },
   "outputs": [
    {
     "ename": "ValueError",
     "evalue": "invalid literal for int() with base 10: 'test'",
     "output_type": "error",
     "traceback": [
      "\u001b[0;31m---------------------------------------------------------------------------\u001b[0m",
      "\u001b[0;31mValueError\u001b[0m                                Traceback (most recent call last)",
      "\u001b[0;32m<ipython-input-68-7e58cf4a44e7>\u001b[0m in \u001b[0;36m<module>\u001b[0;34m\u001b[0m\n\u001b[1;32m      6\u001b[0m         \u001b[0;32mif\u001b[0m \u001b[0ml\u001b[0m \u001b[0;34m==\u001b[0m \u001b[0;34m'\\n'\u001b[0m\u001b[0;34m:\u001b[0m\u001b[0;34m\u001b[0m\u001b[0;34m\u001b[0m\u001b[0m\n\u001b[1;32m      7\u001b[0m             \u001b[0;32mcontinue\u001b[0m\u001b[0;34m\u001b[0m\u001b[0;34m\u001b[0m\u001b[0m\n\u001b[0;32m----> 8\u001b[0;31m         \u001b[0mnumeri\u001b[0m\u001b[0;34m.\u001b[0m\u001b[0mappend\u001b[0m\u001b[0;34m(\u001b[0m\u001b[0mint\u001b[0m\u001b[0;34m(\u001b[0m\u001b[0ml\u001b[0m\u001b[0;34m[\u001b[0m\u001b[0;34m:\u001b[0m\u001b[0;34m-\u001b[0m\u001b[0;36m1\u001b[0m\u001b[0;34m]\u001b[0m\u001b[0;34m)\u001b[0m\u001b[0;34m)\u001b[0m\u001b[0;34m\u001b[0m\u001b[0;34m\u001b[0m\u001b[0m\n\u001b[0m\u001b[1;32m      9\u001b[0m \u001b[0;34m\u001b[0m\u001b[0m\n\u001b[1;32m     10\u001b[0m \u001b[0mprint\u001b[0m\u001b[0;34m(\u001b[0m\u001b[0mnumeri\u001b[0m\u001b[0;34m)\u001b[0m\u001b[0;34m\u001b[0m\u001b[0;34m\u001b[0m\u001b[0m\n",
      "\u001b[0;31mValueError\u001b[0m: invalid literal for int() with base 10: 'test'"
     ]
    }
   ],
   "source": [
    "with open('example.txt', 'r') as f:\n",
    "    numeri = []\n",
    "    lines = f.readlines()\n",
    "    numeri = list()\n",
    "    for l in lines:\n",
    "        if l == '\\n':\n",
    "            continue\n",
    "        numeri.append(int(l[:-1]))\n",
    "\n",
    "print(numeri)\n",
    "print(f.closed)\n",
    "\n",
    "for i in range(10):\n",
    "    pass\n",
    "print(i)"
   ]
  },
  {
   "cell_type": "code",
   "execution_count": 74,
   "id": "1cfbe3f7",
   "metadata": {},
   "outputs": [
    {
     "name": "stdout",
     "output_type": "stream",
     "text": [
      "ciao\n",
      "5\n",
      "ciao\n",
      "5\n",
      "ciao\n",
      "valore non consentito test\n",
      "\n",
      "ciao\n",
      "ciao\n",
      "5\n",
      "valore non consentito \n",
      "\n",
      "ciao\n",
      "[0.1, -0.5, 1000000000, 0.2]\n",
      "True\n"
     ]
    }
   ],
   "source": [
    "with open('example.txt', 'r') as f:\n",
    "    numeri = []\n",
    "    lines = f.readlines()\n",
    "    numeri = list()\n",
    "    for l in lines:\n",
    "        try:\n",
    "            x = 5\n",
    "            numeri.append(1 / int(l[:-1]))\n",
    "        except ValueError:\n",
    "            print('valore non consentito ' + l)\n",
    "            continue\n",
    "        except ZeroDivisionError as err:\n",
    "            err.args\n",
    "            numeri.append(1000000000)\n",
    "            continue\n",
    "        finally:\n",
    "            print('ciao')\n",
    "        print(x)\n",
    "\n",
    "print(numeri)\n",
    "print(f.closed)"
   ]
  }
 ],
 "metadata": {
  "kernelspec": {
   "display_name": "Python 3",
   "language": "python",
   "name": "python3"
  },
  "language_info": {
   "codemirror_mode": {
    "name": "ipython",
    "version": 3
   },
   "file_extension": ".py",
   "mimetype": "text/x-python",
   "name": "python",
   "nbconvert_exporter": "python",
   "pygments_lexer": "ipython3",
   "version": "3.8.10"
  }
 },
 "nbformat": 4,
 "nbformat_minor": 5
}
