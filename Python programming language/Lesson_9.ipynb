{
 "cells": [
  {
   "cell_type": "code",
   "execution_count": 1,
   "id": "020b1ceb",
   "metadata": {},
   "outputs": [],
   "source": [
    "import pandas as pd\n",
    "import numpy as np"
   ]
  },
  {
   "cell_type": "code",
   "execution_count": 2,
   "id": "9c83307f",
   "metadata": {},
   "outputs": [],
   "source": [
    "abitanti_veneto = pd.Series([\n",
    "    840.153, \n",
    "    198.725, \n",
    "    931.290, \n",
    "    229.376, \n",
    "    877.405, \n",
    "    927.682, \n",
    "    853.460]\n",
    ")"
   ]
  },
  {
   "cell_type": "code",
   "execution_count": 3,
   "id": "65bb1b6a",
   "metadata": {},
   "outputs": [
    {
     "name": "stdout",
     "output_type": "stream",
     "text": [
      "0    840.153\n",
      "1    198.725\n",
      "2    931.290\n",
      "3    229.376\n",
      "4    877.405\n",
      "5    927.682\n",
      "6    853.460\n",
      "dtype: float64\n"
     ]
    }
   ],
   "source": [
    "print(abitanti_veneto)"
   ]
  },
  {
   "cell_type": "markdown",
   "id": "b3346631",
   "metadata": {},
   "source": [
    "Le Series possono avere un nome, per comodità."
   ]
  },
  {
   "cell_type": "code",
   "execution_count": 5,
   "id": "bc7b684c",
   "metadata": {
    "scrolled": true
   },
   "outputs": [
    {
     "name": "stdout",
     "output_type": "stream",
     "text": [
      "0    840.153\n",
      "1    198.725\n",
      "2    931.290\n",
      "3    229.376\n",
      "4    877.405\n",
      "5    927.682\n",
      "6    853.460\n",
      "Name: Numero abitanti Veneto per provincia, dtype: float64\n"
     ]
    }
   ],
   "source": [
    "abitanti_veneto.name = 'Numero abitanti Veneto per provincia'\n",
    "print(abitanti_veneto)"
   ]
  },
  {
   "cell_type": "markdown",
   "id": "8e038e6c",
   "metadata": {},
   "source": [
    "Hanno molti aspetti in comune con i numpy array."
   ]
  },
  {
   "cell_type": "code",
   "execution_count": 4,
   "id": "114c687d",
   "metadata": {},
   "outputs": [
    {
     "name": "stdout",
     "output_type": "stream",
     "text": [
      "float64\n",
      "[840.153 198.725 931.29  229.376 877.405 927.682 853.46 ] <class 'numpy.ndarray'>\n"
     ]
    }
   ],
   "source": [
    "print(abitanti_veneto.dtype)\n",
    "# al loro interno sono array n-dimensionali!\n",
    "print(abitanti_veneto.values, type(abitanti_veneto.values))"
   ]
  },
  {
   "cell_type": "markdown",
   "id": "09b8cce6",
   "metadata": {},
   "source": [
    "In genere, il comportamento è più simile a un dizionario (ad un ordered_dict, per essere precisi) che ad un array! Posso definire le chiavi che preferisco."
   ]
  },
  {
   "cell_type": "code",
   "execution_count": 6,
   "id": "4adc7116",
   "metadata": {},
   "outputs": [
    {
     "name": "stdout",
     "output_type": "stream",
     "text": [
      "Venezia    840.153\n",
      "Belluno    198.725\n",
      "Padova     931.290\n",
      "Rovigo     229.376\n",
      "Treviso    877.405\n",
      "Verona     927.682\n",
      "Vicenza    853.460\n",
      "Name: Numero abitanti Veneto per provincia, dtype: float64\n"
     ]
    }
   ],
   "source": [
    "abitanti_veneto.name = 'Numero abitanti Veneto per provincia'\n",
    "abitanti_veneto.index = [\n",
    "'Venezia',\n",
    "'Belluno',\n",
    "'Padova',\n",
    "'Rovigo',\n",
    "'Treviso',\n",
    "'Verona',\n",
    "'Vicenza',\n",
    "]\n",
    "print(abitanti_veneto)"
   ]
  },
  {
   "cell_type": "markdown",
   "id": "add1f07f",
   "metadata": {},
   "source": [
    "Se mi torna comodo posso crearle direttamente da un dizionario"
   ]
  },
  {
   "cell_type": "code",
   "execution_count": 7,
   "id": "aec8795a",
   "metadata": {},
   "outputs": [
    {
     "name": "stdout",
     "output_type": "stream",
     "text": [
      "Venezia    840.153\n",
      "Belluno    198.725\n",
      "Padova     931.290\n",
      "Rovigo     229.376\n",
      "Treviso    877.405\n",
      "Verona     927.682\n",
      "Vicenza    853.460\n",
      "Name: Numero abitanti Veneto per provincia, dtype: float64\n"
     ]
    }
   ],
   "source": [
    "abitanti_veneto = pd.Series({\n",
    "        'Venezia': 840.153,\n",
    "        'Belluno' :198.725,\n",
    "        'Padova' : 931.290,\n",
    "        'Rovigo' : 229.376,\n",
    "        'Treviso' : 877.405,\n",
    "        'Verona': 927.682,\n",
    "        'Vicenza': 853.460},\n",
    "    name='Numero abitanti Veneto per provincia')\n",
    "print(abitanti_veneto)"
   ]
  },
  {
   "cell_type": "markdown",
   "id": "686308ba",
   "metadata": {},
   "source": [
    "Posso anche creare delle sottoserie a partire dall'originale"
   ]
  },
  {
   "cell_type": "code",
   "execution_count": 7,
   "id": "257a5e95",
   "metadata": {
    "scrolled": true
   },
   "outputs": [
    {
     "data": {
      "text/plain": [
       "Verona     927.682\n",
       "Vicenza    853.460\n",
       "Padova     931.290\n",
       "Milano         NaN\n",
       "Venezia    840.153\n",
       "Name: Numero abitanti Veneto per provincia, dtype: float64"
      ]
     },
     "execution_count": 7,
     "metadata": {},
     "output_type": "execute_result"
    }
   ],
   "source": [
    "pd.Series(abitanti_veneto, index=[\n",
    "    'Verona', 'Vicenza', 'Padova', 'Milano', 'Venezia'])"
   ]
  },
  {
   "cell_type": "code",
   "execution_count": 8,
   "id": "b30bfd10",
   "metadata": {},
   "outputs": [
    {
     "name": "stdout",
     "output_type": "stream",
     "text": [
      "927.682\n"
     ]
    }
   ],
   "source": [
    "# indexing (ritorna un singolo valore)\n",
    "print(abitanti_veneto['Verona'])"
   ]
  },
  {
   "cell_type": "code",
   "execution_count": 9,
   "id": "6e6c4f81",
   "metadata": {},
   "outputs": [
    {
     "name": "stdout",
     "output_type": "stream",
     "text": [
      "Rovigo    229.376\n",
      "Verona    927.682\n",
      "Name: Numero abitanti Veneto per provincia, dtype: float64\n"
     ]
    }
   ],
   "source": [
    "# multiplo (ritorna un'altra series)\n",
    "print(abitanti_veneto[['Rovigo', 'Verona']])"
   ]
  },
  {
   "cell_type": "markdown",
   "id": "4d804921",
   "metadata": {},
   "source": [
    "Posso usare fancy indexing (indici booleani)"
   ]
  },
  {
   "cell_type": "code",
   "execution_count": 11,
   "id": "6f6afb42",
   "metadata": {},
   "outputs": [
    {
     "name": "stdout",
     "output_type": "stream",
     "text": [
      "Venezia     True\n",
      "Belluno    False\n",
      "Padova      True\n",
      "Rovigo     False\n",
      "Treviso     True\n",
      "Verona      True\n",
      "Vicenza     True\n",
      "Name: Numero abitanti Veneto per provincia, dtype: bool\n"
     ]
    }
   ],
   "source": [
    "print(abitanti_veneto > 800.000)"
   ]
  },
  {
   "cell_type": "code",
   "execution_count": 12,
   "id": "935d2075",
   "metadata": {
    "scrolled": true
   },
   "outputs": [
    {
     "name": "stdout",
     "output_type": "stream",
     "text": [
      "Venezia    840.153\n",
      "Padova     931.290\n",
      "Treviso    877.405\n",
      "Verona     927.682\n",
      "Vicenza    853.460\n",
      "Name: Numero abitanti Veneto per provincia, dtype: float64\n"
     ]
    }
   ],
   "source": [
    "print(abitanti_veneto[abitanti_veneto>800.000])"
   ]
  },
  {
   "cell_type": "code",
   "execution_count": 13,
   "id": "d6658d32",
   "metadata": {},
   "outputs": [
    {
     "name": "stdout",
     "output_type": "stream",
     "text": [
      "Belluno    198.725\n",
      "Padova     931.290\n",
      "Verona     927.682\n",
      "Name: Numero abitanti Veneto per provincia, dtype: float64\n"
     ]
    }
   ],
   "source": [
    "print(abitanti_veneto[(abitanti_veneto > 900.000) | (abitanti_veneto < 200.000)])"
   ]
  },
  {
   "cell_type": "code",
   "execution_count": 14,
   "id": "e2dbcee3",
   "metadata": {},
   "outputs": [
    {
     "name": "stdout",
     "output_type": "stream",
     "text": [
      "Venezia    840.153\n",
      "Rovigo     229.376\n",
      "Treviso    877.405\n",
      "Vicenza    853.460\n",
      "Name: Numero abitanti Veneto per provincia, dtype: float64\n"
     ]
    }
   ],
   "source": [
    "print(abitanti_veneto[(abitanti_veneto < 900.000) & (abitanti_veneto > 200.000)])"
   ]
  },
  {
   "cell_type": "code",
   "execution_count": 10,
   "id": "be436450",
   "metadata": {},
   "outputs": [
    {
     "name": "stdout",
     "output_type": "stream",
     "text": [
      "694.0129999999999\n",
      "--------------------\n",
      "Venezia    840.153\n",
      "Padova     931.290\n",
      "Treviso    877.405\n",
      "Verona     927.682\n",
      "Vicenza    853.460\n",
      "Name: Numero abitanti Veneto per provincia, dtype: float64\n"
     ]
    }
   ],
   "source": [
    "print(abitanti_veneto.mean())\n",
    "print(20*'-')\n",
    "print(abitanti_veneto[abitanti_veneto > abitanti_veneto.mean()])"
   ]
  },
  {
   "cell_type": "code",
   "execution_count": 19,
   "id": "c988f87a",
   "metadata": {},
   "outputs": [
    {
     "data": {
      "text/plain": [
       "Belluno    198.725\n",
       "Padova     931.290\n",
       "Name: Numero abitanti Veneto per provincia, dtype: float64"
      ]
     },
     "execution_count": 19,
     "metadata": {},
     "output_type": "execute_result"
    }
   ],
   "source": [
    "abitanti_veneto.max()\n",
    "max_mask = abitanti_veneto == abitanti_veneto.max()\n",
    "min_mask = abitanti_veneto == abitanti_veneto.min()\n",
    "abitanti_veneto[max_mask | min_mask]"
   ]
  },
  {
   "cell_type": "code",
   "execution_count": 16,
   "id": "251a6286",
   "metadata": {},
   "outputs": [
    {
     "data": {
      "text/plain": [
       "count      7.00000\n",
       "mean     694.01300\n",
       "std      329.77573\n",
       "min      198.72500\n",
       "25%      534.76450\n",
       "50%      853.46000\n",
       "75%      902.54350\n",
       "max      931.29000\n",
       "Name: Numero abitanti Veneto per provincia, dtype: float64"
      ]
     },
     "execution_count": 16,
     "metadata": {},
     "output_type": "execute_result"
    }
   ],
   "source": [
    "abitanti_veneto.describe()"
   ]
  },
  {
   "cell_type": "code",
   "execution_count": 20,
   "id": "94b7aa66",
   "metadata": {},
   "outputs": [],
   "source": [
    "# lettura da csv, supporta molti altri formati\n",
    "clima = pd.read_csv(filepath_or_buffer='dati_climatici.csv',sep=';')"
   ]
  },
  {
   "cell_type": "code",
   "execution_count": 21,
   "id": "1114a2af",
   "metadata": {
    "scrolled": false
   },
   "outputs": [
    {
     "name": "stdout",
     "output_type": "stream",
     "text": [
      "<class 'pandas.core.frame.DataFrame'>\n",
      "RangeIndex: 31 entries, 0 to 30\n",
      "Data columns (total 4 columns):\n",
      " #   Column       Non-Null Count  Dtype \n",
      "---  ------       --------------  ----- \n",
      " 0   giorno       31 non-null     object\n",
      " 1   temperatura  31 non-null     int64 \n",
      " 2   vel_vento    31 non-null     int64 \n",
      " 3   evento       31 non-null     object\n",
      "dtypes: int64(2), object(2)\n",
      "memory usage: 1.1+ KB\n"
     ]
    }
   ],
   "source": [
    "clima.info()"
   ]
  },
  {
   "cell_type": "code",
   "execution_count": 22,
   "id": "d78feed5",
   "metadata": {},
   "outputs": [
    {
     "data": {
      "text/html": [
       "<div>\n",
       "<style scoped>\n",
       "    .dataframe tbody tr th:only-of-type {\n",
       "        vertical-align: middle;\n",
       "    }\n",
       "\n",
       "    .dataframe tbody tr th {\n",
       "        vertical-align: top;\n",
       "    }\n",
       "\n",
       "    .dataframe thead th {\n",
       "        text-align: right;\n",
       "    }\n",
       "</style>\n",
       "<table border=\"1\" class=\"dataframe\">\n",
       "  <thead>\n",
       "    <tr style=\"text-align: right;\">\n",
       "      <th></th>\n",
       "      <th>giorno</th>\n",
       "      <th>temperatura</th>\n",
       "      <th>vel_vento</th>\n",
       "      <th>evento</th>\n",
       "    </tr>\n",
       "  </thead>\n",
       "  <tbody>\n",
       "    <tr>\n",
       "      <th>0</th>\n",
       "      <td>01/01/17</td>\n",
       "      <td>32</td>\n",
       "      <td>6</td>\n",
       "      <td>Pioggia</td>\n",
       "    </tr>\n",
       "    <tr>\n",
       "      <th>1</th>\n",
       "      <td>02/01/17</td>\n",
       "      <td>35</td>\n",
       "      <td>7</td>\n",
       "      <td>Sole</td>\n",
       "    </tr>\n",
       "  </tbody>\n",
       "</table>\n",
       "</div>"
      ],
      "text/plain": [
       "     giorno  temperatura  vel_vento   evento\n",
       "0  01/01/17           32          6  Pioggia\n",
       "1  02/01/17           35          7     Sole"
      ]
     },
     "execution_count": 22,
     "metadata": {},
     "output_type": "execute_result"
    }
   ],
   "source": [
    "clima.head(2)"
   ]
  },
  {
   "cell_type": "code",
   "execution_count": 23,
   "id": "b703a04b",
   "metadata": {},
   "outputs": [
    {
     "data": {
      "text/html": [
       "<div>\n",
       "<style scoped>\n",
       "    .dataframe tbody tr th:only-of-type {\n",
       "        vertical-align: middle;\n",
       "    }\n",
       "\n",
       "    .dataframe tbody tr th {\n",
       "        vertical-align: top;\n",
       "    }\n",
       "\n",
       "    .dataframe thead th {\n",
       "        text-align: right;\n",
       "    }\n",
       "</style>\n",
       "<table border=\"1\" class=\"dataframe\">\n",
       "  <thead>\n",
       "    <tr style=\"text-align: right;\">\n",
       "      <th></th>\n",
       "      <th>giorno</th>\n",
       "      <th>temperatura</th>\n",
       "      <th>vel_vento</th>\n",
       "      <th>evento</th>\n",
       "    </tr>\n",
       "  </thead>\n",
       "  <tbody>\n",
       "    <tr>\n",
       "      <th>0</th>\n",
       "      <td>01/01/17</td>\n",
       "      <td>32</td>\n",
       "      <td>6</td>\n",
       "      <td>Pioggia</td>\n",
       "    </tr>\n",
       "    <tr>\n",
       "      <th>1</th>\n",
       "      <td>02/01/17</td>\n",
       "      <td>35</td>\n",
       "      <td>7</td>\n",
       "      <td>Sole</td>\n",
       "    </tr>\n",
       "    <tr>\n",
       "      <th>4</th>\n",
       "      <td>05/01/17</td>\n",
       "      <td>32</td>\n",
       "      <td>4</td>\n",
       "      <td>Pioggia</td>\n",
       "    </tr>\n",
       "    <tr>\n",
       "      <th>5</th>\n",
       "      <td>06/01/17</td>\n",
       "      <td>31</td>\n",
       "      <td>2</td>\n",
       "      <td>Sole</td>\n",
       "    </tr>\n",
       "    <tr>\n",
       "      <th>6</th>\n",
       "      <td>07/01/17</td>\n",
       "      <td>31</td>\n",
       "      <td>2</td>\n",
       "      <td>Sole</td>\n",
       "    </tr>\n",
       "    <tr>\n",
       "      <th>13</th>\n",
       "      <td>14/01/17</td>\n",
       "      <td>32</td>\n",
       "      <td>6</td>\n",
       "      <td>Pioggia</td>\n",
       "    </tr>\n",
       "    <tr>\n",
       "      <th>14</th>\n",
       "      <td>15/01/17</td>\n",
       "      <td>35</td>\n",
       "      <td>7</td>\n",
       "      <td>Sole</td>\n",
       "    </tr>\n",
       "    <tr>\n",
       "      <th>17</th>\n",
       "      <td>18/01/17</td>\n",
       "      <td>32</td>\n",
       "      <td>4</td>\n",
       "      <td>Pioggia</td>\n",
       "    </tr>\n",
       "    <tr>\n",
       "      <th>18</th>\n",
       "      <td>19/01/17</td>\n",
       "      <td>31</td>\n",
       "      <td>2</td>\n",
       "      <td>Sole</td>\n",
       "    </tr>\n",
       "    <tr>\n",
       "      <th>19</th>\n",
       "      <td>20/01/17</td>\n",
       "      <td>31</td>\n",
       "      <td>2</td>\n",
       "      <td>Sole</td>\n",
       "    </tr>\n",
       "    <tr>\n",
       "      <th>26</th>\n",
       "      <td>27/01/17</td>\n",
       "      <td>32</td>\n",
       "      <td>6</td>\n",
       "      <td>Pioggia</td>\n",
       "    </tr>\n",
       "    <tr>\n",
       "      <th>27</th>\n",
       "      <td>28/01/17</td>\n",
       "      <td>35</td>\n",
       "      <td>7</td>\n",
       "      <td>Sole</td>\n",
       "    </tr>\n",
       "    <tr>\n",
       "      <th>30</th>\n",
       "      <td>31/01/17</td>\n",
       "      <td>32</td>\n",
       "      <td>4</td>\n",
       "      <td>Pioggia</td>\n",
       "    </tr>\n",
       "  </tbody>\n",
       "</table>\n",
       "</div>"
      ],
      "text/plain": [
       "      giorno  temperatura  vel_vento   evento\n",
       "0   01/01/17           32          6  Pioggia\n",
       "1   02/01/17           35          7     Sole\n",
       "4   05/01/17           32          4  Pioggia\n",
       "5   06/01/17           31          2     Sole\n",
       "6   07/01/17           31          2     Sole\n",
       "13  14/01/17           32          6  Pioggia\n",
       "14  15/01/17           35          7     Sole\n",
       "17  18/01/17           32          4  Pioggia\n",
       "18  19/01/17           31          2     Sole\n",
       "19  20/01/17           31          2     Sole\n",
       "26  27/01/17           32          6  Pioggia\n",
       "27  28/01/17           35          7     Sole\n",
       "30  31/01/17           32          4  Pioggia"
      ]
     },
     "execution_count": 23,
     "metadata": {},
     "output_type": "execute_result"
    }
   ],
   "source": [
    "clima[clima['temperatura'] > 30]"
   ]
  },
  {
   "cell_type": "code",
   "execution_count": 24,
   "id": "0ee8e599",
   "metadata": {},
   "outputs": [
    {
     "data": {
      "text/html": [
       "<div>\n",
       "<style scoped>\n",
       "    .dataframe tbody tr th:only-of-type {\n",
       "        vertical-align: middle;\n",
       "    }\n",
       "\n",
       "    .dataframe tbody tr th {\n",
       "        vertical-align: top;\n",
       "    }\n",
       "\n",
       "    .dataframe thead th {\n",
       "        text-align: right;\n",
       "    }\n",
       "</style>\n",
       "<table border=\"1\" class=\"dataframe\">\n",
       "  <thead>\n",
       "    <tr style=\"text-align: right;\">\n",
       "      <th></th>\n",
       "      <th>giorno</th>\n",
       "      <th>temperatura</th>\n",
       "      <th>vel_vento</th>\n",
       "      <th>evento</th>\n",
       "    </tr>\n",
       "  </thead>\n",
       "  <tbody>\n",
       "    <tr>\n",
       "      <th>2</th>\n",
       "      <td>03/01/17</td>\n",
       "      <td>28</td>\n",
       "      <td>2</td>\n",
       "      <td>Neve</td>\n",
       "    </tr>\n",
       "    <tr>\n",
       "      <th>3</th>\n",
       "      <td>04/01/17</td>\n",
       "      <td>24</td>\n",
       "      <td>7</td>\n",
       "      <td>Neve</td>\n",
       "    </tr>\n",
       "    <tr>\n",
       "      <th>7</th>\n",
       "      <td>08/01/17</td>\n",
       "      <td>30</td>\n",
       "      <td>3</td>\n",
       "      <td>Sole</td>\n",
       "    </tr>\n",
       "    <tr>\n",
       "      <th>8</th>\n",
       "      <td>09/01/17</td>\n",
       "      <td>29</td>\n",
       "      <td>4</td>\n",
       "      <td>Sole</td>\n",
       "    </tr>\n",
       "    <tr>\n",
       "      <th>9</th>\n",
       "      <td>10/01/17</td>\n",
       "      <td>28</td>\n",
       "      <td>5</td>\n",
       "      <td>Pioggia</td>\n",
       "    </tr>\n",
       "    <tr>\n",
       "      <th>10</th>\n",
       "      <td>11/01/17</td>\n",
       "      <td>27</td>\n",
       "      <td>6</td>\n",
       "      <td>Pioggia</td>\n",
       "    </tr>\n",
       "    <tr>\n",
       "      <th>11</th>\n",
       "      <td>12/01/17</td>\n",
       "      <td>25</td>\n",
       "      <td>7</td>\n",
       "      <td>Pioggia</td>\n",
       "    </tr>\n",
       "    <tr>\n",
       "      <th>12</th>\n",
       "      <td>13/01/17</td>\n",
       "      <td>24</td>\n",
       "      <td>8</td>\n",
       "      <td>Neve</td>\n",
       "    </tr>\n",
       "    <tr>\n",
       "      <th>15</th>\n",
       "      <td>16/01/17</td>\n",
       "      <td>28</td>\n",
       "      <td>2</td>\n",
       "      <td>Neve</td>\n",
       "    </tr>\n",
       "    <tr>\n",
       "      <th>16</th>\n",
       "      <td>17/01/17</td>\n",
       "      <td>24</td>\n",
       "      <td>7</td>\n",
       "      <td>Neve</td>\n",
       "    </tr>\n",
       "    <tr>\n",
       "      <th>20</th>\n",
       "      <td>21/01/17</td>\n",
       "      <td>30</td>\n",
       "      <td>3</td>\n",
       "      <td>Sole</td>\n",
       "    </tr>\n",
       "    <tr>\n",
       "      <th>21</th>\n",
       "      <td>22/01/17</td>\n",
       "      <td>29</td>\n",
       "      <td>4</td>\n",
       "      <td>Sole</td>\n",
       "    </tr>\n",
       "    <tr>\n",
       "      <th>22</th>\n",
       "      <td>23/01/17</td>\n",
       "      <td>28</td>\n",
       "      <td>5</td>\n",
       "      <td>Pioggia</td>\n",
       "    </tr>\n",
       "    <tr>\n",
       "      <th>23</th>\n",
       "      <td>24/01/17</td>\n",
       "      <td>27</td>\n",
       "      <td>6</td>\n",
       "      <td>Pioggia</td>\n",
       "    </tr>\n",
       "    <tr>\n",
       "      <th>24</th>\n",
       "      <td>25/01/17</td>\n",
       "      <td>25</td>\n",
       "      <td>7</td>\n",
       "      <td>Pioggia</td>\n",
       "    </tr>\n",
       "    <tr>\n",
       "      <th>25</th>\n",
       "      <td>26/01/17</td>\n",
       "      <td>24</td>\n",
       "      <td>8</td>\n",
       "      <td>Neve</td>\n",
       "    </tr>\n",
       "    <tr>\n",
       "      <th>28</th>\n",
       "      <td>29/01/17</td>\n",
       "      <td>28</td>\n",
       "      <td>2</td>\n",
       "      <td>Neve</td>\n",
       "    </tr>\n",
       "    <tr>\n",
       "      <th>29</th>\n",
       "      <td>30/01/17</td>\n",
       "      <td>24</td>\n",
       "      <td>7</td>\n",
       "      <td>Neve</td>\n",
       "    </tr>\n",
       "  </tbody>\n",
       "</table>\n",
       "</div>"
      ],
      "text/plain": [
       "      giorno  temperatura  vel_vento   evento\n",
       "2   03/01/17           28          2     Neve\n",
       "3   04/01/17           24          7     Neve\n",
       "7   08/01/17           30          3     Sole\n",
       "8   09/01/17           29          4     Sole\n",
       "9   10/01/17           28          5  Pioggia\n",
       "10  11/01/17           27          6  Pioggia\n",
       "11  12/01/17           25          7  Pioggia\n",
       "12  13/01/17           24          8     Neve\n",
       "15  16/01/17           28          2     Neve\n",
       "16  17/01/17           24          7     Neve\n",
       "20  21/01/17           30          3     Sole\n",
       "21  22/01/17           29          4     Sole\n",
       "22  23/01/17           28          5  Pioggia\n",
       "23  24/01/17           27          6  Pioggia\n",
       "24  25/01/17           25          7  Pioggia\n",
       "25  26/01/17           24          8     Neve\n",
       "28  29/01/17           28          2     Neve\n",
       "29  30/01/17           24          7     Neve"
      ]
     },
     "execution_count": 24,
     "metadata": {},
     "output_type": "execute_result"
    }
   ],
   "source": [
    "# posso chiamare 'temperatura' come indice o come attributo\n",
    "clima[clima['temperatura'] <= 30]\n",
    "# identico!\n",
    "clima[clima.temperatura <= 30]"
   ]
  },
  {
   "cell_type": "code",
   "execution_count": 25,
   "id": "33f0c75a",
   "metadata": {},
   "outputs": [
    {
     "data": {
      "text/html": [
       "<div>\n",
       "<style scoped>\n",
       "    .dataframe tbody tr th:only-of-type {\n",
       "        vertical-align: middle;\n",
       "    }\n",
       "\n",
       "    .dataframe tbody tr th {\n",
       "        vertical-align: top;\n",
       "    }\n",
       "\n",
       "    .dataframe thead th {\n",
       "        text-align: right;\n",
       "    }\n",
       "</style>\n",
       "<table border=\"1\" class=\"dataframe\">\n",
       "  <thead>\n",
       "    <tr style=\"text-align: right;\">\n",
       "      <th></th>\n",
       "      <th>giorno</th>\n",
       "      <th>temperatura</th>\n",
       "      <th>vel_vento</th>\n",
       "      <th>evento</th>\n",
       "    </tr>\n",
       "  </thead>\n",
       "  <tbody>\n",
       "    <tr>\n",
       "      <th>0</th>\n",
       "      <td>01/01/17</td>\n",
       "      <td>32</td>\n",
       "      <td>6</td>\n",
       "      <td>Pioggia</td>\n",
       "    </tr>\n",
       "    <tr>\n",
       "      <th>4</th>\n",
       "      <td>05/01/17</td>\n",
       "      <td>32</td>\n",
       "      <td>4</td>\n",
       "      <td>Pioggia</td>\n",
       "    </tr>\n",
       "    <tr>\n",
       "      <th>13</th>\n",
       "      <td>14/01/17</td>\n",
       "      <td>32</td>\n",
       "      <td>6</td>\n",
       "      <td>Pioggia</td>\n",
       "    </tr>\n",
       "    <tr>\n",
       "      <th>17</th>\n",
       "      <td>18/01/17</td>\n",
       "      <td>32</td>\n",
       "      <td>4</td>\n",
       "      <td>Pioggia</td>\n",
       "    </tr>\n",
       "    <tr>\n",
       "      <th>26</th>\n",
       "      <td>27/01/17</td>\n",
       "      <td>32</td>\n",
       "      <td>6</td>\n",
       "      <td>Pioggia</td>\n",
       "    </tr>\n",
       "    <tr>\n",
       "      <th>30</th>\n",
       "      <td>31/01/17</td>\n",
       "      <td>32</td>\n",
       "      <td>4</td>\n",
       "      <td>Pioggia</td>\n",
       "    </tr>\n",
       "  </tbody>\n",
       "</table>\n",
       "</div>"
      ],
      "text/plain": [
       "      giorno  temperatura  vel_vento   evento\n",
       "0   01/01/17           32          6  Pioggia\n",
       "4   05/01/17           32          4  Pioggia\n",
       "13  14/01/17           32          6  Pioggia\n",
       "17  18/01/17           32          4  Pioggia\n",
       "26  27/01/17           32          6  Pioggia\n",
       "30  31/01/17           32          4  Pioggia"
      ]
     },
     "execution_count": 25,
     "metadata": {},
     "output_type": "execute_result"
    }
   ],
   "source": [
    "clima[(clima.evento==\"Pioggia\") & (clima.temperatura>30) ]"
   ]
  },
  {
   "cell_type": "code",
   "execution_count": 28,
   "id": "9664cd0a",
   "metadata": {},
   "outputs": [
    {
     "data": {
      "text/html": [
       "<div>\n",
       "<style scoped>\n",
       "    .dataframe tbody tr th:only-of-type {\n",
       "        vertical-align: middle;\n",
       "    }\n",
       "\n",
       "    .dataframe tbody tr th {\n",
       "        vertical-align: top;\n",
       "    }\n",
       "\n",
       "    .dataframe thead th {\n",
       "        text-align: right;\n",
       "    }\n",
       "</style>\n",
       "<table border=\"1\" class=\"dataframe\">\n",
       "  <thead>\n",
       "    <tr style=\"text-align: right;\">\n",
       "      <th></th>\n",
       "      <th>giorno</th>\n",
       "      <th>temperatura</th>\n",
       "      <th>vel_vento</th>\n",
       "      <th>evento</th>\n",
       "    </tr>\n",
       "  </thead>\n",
       "  <tbody>\n",
       "    <tr>\n",
       "      <th>2</th>\n",
       "      <td>03/01/17</td>\n",
       "      <td>28</td>\n",
       "      <td>2</td>\n",
       "      <td>Neve</td>\n",
       "    </tr>\n",
       "    <tr>\n",
       "      <th>3</th>\n",
       "      <td>04/01/17</td>\n",
       "      <td>24</td>\n",
       "      <td>7</td>\n",
       "      <td>Neve</td>\n",
       "    </tr>\n",
       "    <tr>\n",
       "      <th>11</th>\n",
       "      <td>12/01/17</td>\n",
       "      <td>25</td>\n",
       "      <td>7</td>\n",
       "      <td>Pioggia</td>\n",
       "    </tr>\n",
       "    <tr>\n",
       "      <th>12</th>\n",
       "      <td>13/01/17</td>\n",
       "      <td>24</td>\n",
       "      <td>8</td>\n",
       "      <td>Neve</td>\n",
       "    </tr>\n",
       "    <tr>\n",
       "      <th>15</th>\n",
       "      <td>16/01/17</td>\n",
       "      <td>28</td>\n",
       "      <td>2</td>\n",
       "      <td>Neve</td>\n",
       "    </tr>\n",
       "    <tr>\n",
       "      <th>16</th>\n",
       "      <td>17/01/17</td>\n",
       "      <td>24</td>\n",
       "      <td>7</td>\n",
       "      <td>Neve</td>\n",
       "    </tr>\n",
       "    <tr>\n",
       "      <th>24</th>\n",
       "      <td>25/01/17</td>\n",
       "      <td>25</td>\n",
       "      <td>7</td>\n",
       "      <td>Pioggia</td>\n",
       "    </tr>\n",
       "    <tr>\n",
       "      <th>25</th>\n",
       "      <td>26/01/17</td>\n",
       "      <td>24</td>\n",
       "      <td>8</td>\n",
       "      <td>Neve</td>\n",
       "    </tr>\n",
       "    <tr>\n",
       "      <th>28</th>\n",
       "      <td>29/01/17</td>\n",
       "      <td>28</td>\n",
       "      <td>2</td>\n",
       "      <td>Neve</td>\n",
       "    </tr>\n",
       "    <tr>\n",
       "      <th>29</th>\n",
       "      <td>30/01/17</td>\n",
       "      <td>24</td>\n",
       "      <td>7</td>\n",
       "      <td>Neve</td>\n",
       "    </tr>\n",
       "  </tbody>\n",
       "</table>\n",
       "</div>"
      ],
      "text/plain": [
       "      giorno  temperatura  vel_vento   evento\n",
       "2   03/01/17           28          2     Neve\n",
       "3   04/01/17           24          7     Neve\n",
       "11  12/01/17           25          7  Pioggia\n",
       "12  13/01/17           24          8     Neve\n",
       "15  16/01/17           28          2     Neve\n",
       "16  17/01/17           24          7     Neve\n",
       "24  25/01/17           25          7  Pioggia\n",
       "25  26/01/17           24          8     Neve\n",
       "28  29/01/17           28          2     Neve\n",
       "29  30/01/17           24          7     Neve"
      ]
     },
     "execution_count": 28,
     "metadata": {},
     "output_type": "execute_result"
    }
   ],
   "source": [
    "clima[(clima.evento==\"Neve\") | (clima.temperatura<26) ]"
   ]
  },
  {
   "cell_type": "code",
   "execution_count": 29,
   "id": "3beb22e0",
   "metadata": {},
   "outputs": [],
   "source": [
    "import matplotlib.pyplot as plt"
   ]
  },
  {
   "cell_type": "code",
   "execution_count": 30,
   "id": "72371336",
   "metadata": {},
   "outputs": [
    {
     "data": {
      "text/plain": [
       "[<matplotlib.lines.Line2D at 0x1a576679e80>]"
      ]
     },
     "execution_count": 30,
     "metadata": {},
     "output_type": "execute_result"
    },
    {
     "data": {
      "image/png": "[encoded data removed]",
      "text/plain": [
       "<Figure size 432x288 with 1 Axes>"
      ]
     },
     "metadata": {
      "needs_background": "light"
     },
     "output_type": "display_data"
    }
   ],
   "source": [
    "fig, ax = plt.subplots()\n",
    "ax.plot([1, 2, 3, 4], [1, 4, 2, 3])"
   ]
  },
  {
   "cell_type": "code",
   "execution_count": 25,
   "id": "209b99ce",
   "metadata": {},
   "outputs": [
    {
     "data": {
      "image/png": "[encoded data removed]",
      "text/plain": [
       "<Figure size 360x194.4 with 1 Axes>"
      ]
     },
     "metadata": {
      "needs_background": "light"
     },
     "output_type": "display_data"
    }
   ],
   "source": [
    "# esempio di stampa\n",
    "data = {'a': np.arange(50),\n",
    "        'c': np.random.randint(0, 50, 50),\n",
    "        'd': np.random.randn(50)}\n",
    "data['b'] = data['a'] + 10 * np.random.randn(50)\n",
    "data['d'] = np.abs(data['d']) * 100\n",
    "\n",
    "fig, ax = plt.subplots(figsize=(5, 2.7))\n",
    "ax.scatter('a', 'b', c='c', s='d', data=data)\n",
    "ax.set_xlabel('entry a')\n",
    "ax.set_ylabel('entry b');"
   ]
  },
  {
   "cell_type": "code",
   "execution_count": 26,
   "id": "0febbfd2",
   "metadata": {},
   "outputs": [
    {
     "data": {
      "text/plain": [
       "<AxesSubplot:>"
      ]
     },
     "execution_count": 26,
     "metadata": {},
     "output_type": "execute_result"
    },
    {
     "data": {
      "image/png": "[encoded data removed]",
      "text/plain": [
       "<Figure size 432x288 with 1 Axes>"
      ]
     },
     "metadata": {
      "needs_background": "light"
     },
     "output_type": "display_data"
    }
   ],
   "source": [
    "plt.figure()\n",
    "abitanti_veneto.plot()"
   ]
  },
  {
   "cell_type": "code",
   "execution_count": 27,
   "id": "760e149d",
   "metadata": {
    "scrolled": true
   },
   "outputs": [
    {
     "data": {
      "text/plain": [
       "<AxesSubplot:>"
      ]
     },
     "execution_count": 27,
     "metadata": {},
     "output_type": "execute_result"
    },
    {
     "data": {
      "image/png": "[encoded data removed]",
      "text/plain": [
       "<Figure size 432x288 with 1 Axes>"
      ]
     },
     "metadata": {
      "needs_background": "light"
     },
     "output_type": "display_data"
    }
   ],
   "source": [
    "# pandas si integra direttamente!\n",
    "clima.plot()"
   ]
  },
  {
   "cell_type": "code",
   "execution_count": 28,
   "id": "1b3fe0ac",
   "metadata": {},
   "outputs": [
    {
     "data": {
      "text/plain": [
       "<AxesSubplot:>"
      ]
     },
     "execution_count": 28,
     "metadata": {},
     "output_type": "execute_result"
    },
    {
     "data": {
      "image/png": "[encoded data removed]",
      "text/plain": [
       "<Figure size 432x288 with 1 Axes>"
      ]
     },
     "metadata": {
      "needs_background": "light"
     },
     "output_type": "display_data"
    }
   ],
   "source": [
    "clima.temperatura.plot()"
   ]
  },
  {
   "cell_type": "code",
   "execution_count": 29,
   "id": "779641d2",
   "metadata": {},
   "outputs": [
    {
     "data": {
      "text/plain": [
       "<Figure size 432x288 with 0 Axes>"
      ]
     },
     "metadata": {},
     "output_type": "display_data"
    },
    {
     "data": {
      "image/png": "[encoded data removed]",
      "text/plain": [
       "<Figure size 432x288 with 2 Axes>"
      ]
     },
     "metadata": {
      "needs_background": "light"
     },
     "output_type": "display_data"
    }
   ],
   "source": [
    "plt.figure()\n",
    "clima.hist();\n"
   ]
  },
  {
   "cell_type": "code",
   "execution_count": 30,
   "id": "24f6a09b",
   "metadata": {},
   "outputs": [
    {
     "data": {
      "text/plain": [
       "<AxesSubplot:xlabel='temperatura', ylabel='vel_vento'>"
      ]
     },
     "execution_count": 30,
     "metadata": {},
     "output_type": "execute_result"
    },
    {
     "data": {
      "text/plain": [
       "<Figure size 432x288 with 0 Axes>"
      ]
     },
     "metadata": {},
     "output_type": "display_data"
    },
    {
     "data": {
      "image/png": "[encoded data removed]",
      "text/plain": [
       "<Figure size 432x288 with 1 Axes>"
      ]
     },
     "metadata": {
      "needs_background": "light"
     },
     "output_type": "display_data"
    }
   ],
   "source": [
    "plt.figure(); clima.plot.scatter(x='temperatura', y='vel_vento')"
   ]
  },
  {
   "cell_type": "markdown",
   "id": "6a6d7f13",
   "metadata": {},
   "source": [
    "# Cenni di Scikit-learn"
   ]
  },
  {
   "cell_type": "code",
   "execution_count": 31,
   "id": "99b5c64d",
   "metadata": {},
   "outputs": [],
   "source": [
    "from sklearn import datasets\n",
    "\n",
    "# scikit-learn offre dei dataset di default, utili per sperimentare\n",
    "digits = datasets.load_digits()"
   ]
  },
  {
   "cell_type": "code",
   "execution_count": 32,
   "id": "0127718c",
   "metadata": {
    "scrolled": true
   },
   "outputs": [
    {
     "data": {
      "text/plain": [
       "array([0, 1, 2, ..., 8, 9, 8])"
      ]
     },
     "execution_count": 32,
     "metadata": {},
     "output_type": "execute_result"
    }
   ],
   "source": [
    "# apprendimento supervisionato: i dati sono etichettati\n",
    "digits.target"
   ]
  },
  {
   "cell_type": "code",
   "execution_count": 33,
   "id": "da1e7f08",
   "metadata": {},
   "outputs": [
    {
     "name": "stdout",
     "output_type": "stream",
     "text": [
      "[ 0.  0.  5. 13.  9.  1.  0.  0.  0.  0. 13. 15. 10. 15.  5.  0.  0.  3.\n",
      " 15.  2.  0. 11.  8.  0.  0.  4. 12.  0.  0.  8.  8.  0.  0.  5.  8.  0.\n",
      "  0.  9.  8.  0.  0.  4. 11.  0.  1. 12.  7.  0.  0.  2. 14.  5. 10. 12.\n",
      "  0.  0.  0.  0.  6. 13. 10.  0.  0.  0.]\n"
     ]
    }
   ],
   "source": [
    "# valori interni di una cifra\n",
    "print(digits.data[0])"
   ]
  },
  {
   "cell_type": "code",
   "execution_count": 34,
   "id": "a1ecc5a5",
   "metadata": {},
   "outputs": [
    {
     "name": "stdout",
     "output_type": "stream",
     "text": [
      "0\n"
     ]
    },
    {
     "data": {
      "image/png": "[encoded data removed]",
      "text/plain": [
       "<Figure size 432x288 with 2 Axes>"
      ]
     },
     "metadata": {
      "needs_background": "light"
     },
     "output_type": "display_data"
    }
   ],
   "source": [
    "# stampa dell'immagine\n",
    "plt.figure()\n",
    "\n",
    "plt.subplot(1, 2, 1) # o plt.subplot(121)\n",
    "plt.imshow(digits.data[0].reshape(8, 8), cmap='Greys')\n",
    "plt.subplot(1, 2, 2) # o plt.subplot(121)\n",
    "plt.imshow(digits.data[1].reshape(8, 8), cmap='Greys')\n",
    "\n",
    "print(digits.target[0])"
   ]
  },
  {
   "cell_type": "code",
   "execution_count": 35,
   "id": "79e320ed",
   "metadata": {},
   "outputs": [
    {
     "data": {
      "image/png": "[encoded data removed]",
      "text/plain": [
       "<Figure size 432x288 with 10 Axes>"
      ]
     },
     "metadata": {
      "needs_background": "light"
     },
     "output_type": "display_data"
    }
   ],
   "source": [
    "# l'immagine è questa! spesso si lavora con versioni \"compatte\" dei dati veri\n",
    "plt.figure()\n",
    "\n",
    "for c in range(1, 3):\n",
    "    for r in range(1, 6):\n",
    "        img = plt.subplot(2, 5, (c-1)*5 + r)\n",
    "        plt.imshow(digits.data[((c-1)*5 + (r-1))].reshape(8, 8), cmap='Greys')\n"
   ]
  },
  {
   "cell_type": "code",
   "execution_count": 36,
   "id": "15a8108b",
   "metadata": {},
   "outputs": [],
   "source": [
    "from sklearn import svm\n",
    "# clasificatore\n",
    "clf = svm.SVC(gamma=0.001, C=100.)"
   ]
  },
  {
   "cell_type": "code",
   "execution_count": 37,
   "id": "97637bcb",
   "metadata": {},
   "outputs": [
    {
     "data": {
      "text/plain": [
       "SVC(C=100.0, gamma=0.001)"
      ]
     },
     "execution_count": 37,
     "metadata": {},
     "output_type": "execute_result"
    }
   ],
   "source": [
    "# fit addestra il clasificatore\n",
    "# addestriamo su tutti i dati tranne l'ultimo\n",
    "clf.fit(digits.data[:-1], digits.target[:-1])"
   ]
  },
  {
   "cell_type": "code",
   "execution_count": 38,
   "id": "c14f6ca5",
   "metadata": {},
   "outputs": [
    {
     "data": {
      "text/plain": [
       "array([8])"
      ]
     },
     "execution_count": 38,
     "metadata": {},
     "output_type": "execute_result"
    }
   ],
   "source": [
    "clf.predict(digits.data[-1:])"
   ]
  },
  {
   "cell_type": "code",
   "execution_count": 39,
   "id": "b8cb147e",
   "metadata": {},
   "outputs": [
    {
     "data": {
      "text/plain": [
       "<matplotlib.image.AxesImage at 0x7fef7f738850>"
      ]
     },
     "execution_count": 39,
     "metadata": {},
     "output_type": "execute_result"
    },
    {
     "data": {
      "image/png": "[encoded data removed]",
      "text/plain": [
       "<Figure size 432x288 with 1 Axes>"
      ]
     },
     "metadata": {
      "needs_background": "light"
     },
     "output_type": "display_data"
    }
   ],
   "source": [
    "plt.imshow(digits.data[-1:].reshape(8, 8), cmap='Greys')"
   ]
  },
  {
   "cell_type": "code",
   "execution_count": 40,
   "id": "e2e6a411",
   "metadata": {
    "scrolled": true
   },
   "outputs": [
    {
     "data": {
      "text/plain": [
       "<matplotlib.collections.PathCollection at 0x7fef7c287a30>"
      ]
     },
     "execution_count": 40,
     "metadata": {},
     "output_type": "execute_result"
    },
    {
     "data": {
      "image/png": "[encoded data removed]",
      "text/plain": [
       "<Figure size 432x288 with 1 Axes>"
      ]
     },
     "metadata": {
      "needs_background": "light"
     },
     "output_type": "display_data"
    }
   ],
   "source": [
    "from sklearn.cluster import KMeans\n",
    "from sklearn.datasets import make_blobs\n",
    "\n",
    "# Generate sample data\n",
    "n_samples = 4000\n",
    "n_components = 4\n",
    "\n",
    "X, y_true = make_blobs(\n",
    "    n_samples=n_samples, centers=n_components, cluster_std=0.60, random_state=0\n",
    ")\n",
    "X = X[:, ::-1]\n",
    "\n",
    "plt.scatter(X[:,0], X[:, 1], marker=\".\", s=10)"
   ]
  },
  {
   "cell_type": "code",
   "execution_count": 41,
   "id": "00259180",
   "metadata": {},
   "outputs": [
    {
     "data": {
      "image/png": "[encoded data removed]",
      "text/plain": [
       "<Figure size 432x288 with 1 Axes>"
      ]
     },
     "metadata": {},
     "output_type": "display_data"
    }
   ],
   "source": [
    "# Calculate seeds from kmeans++\n",
    "kmean = KMeans(n_clusters=4, init='k-means++', random_state=0).fit(X)\n",
    "\n",
    "# Plot init seeds along side sample data\n",
    "plt.figure(1)\n",
    "colors = [\"#4EACC5\", \"#FF9C34\", \"#4E9A06\", \"m\"]\n",
    "\n",
    "for k, col in enumerate(colors):\n",
    "    cluster_data = kmean.predict(X) == k\n",
    "    plt.scatter(X[cluster_data, 0], X[cluster_data, 1], c=col, marker=\".\", s=10)\n",
    "\n",
    "\n",
    "plt.scatter(kmean.cluster_centers_[:, 0], kmean.cluster_centers_[:, 1], c=\"b\", s=50)\n",
    "plt.title(\"K-Means++ Initialization\")\n",
    "plt.xticks([])\n",
    "plt.yticks([])\n",
    "plt.show()\n"
   ]
  }
 ],
 "metadata": {
  "interpreter": {
   "hash": "20a9e06a1eee47c4abbed4ec8225ad91d78d9800d202b71b6b0a6e47016c6abd"
  },
  "kernelspec": {
   "display_name": "Python 3.8.8 ('base')",
   "language": "python",
   "name": "python3"
  },
  "language_info": {
   "codemirror_mode": {
    "name": "ipython",
    "version": 3
   },
   "file_extension": ".py",
   "mimetype": "text/x-python",
   "name": "python",
   "nbconvert_exporter": "python",
   "pygments_lexer": "ipython3",
   "version": "3.8.8"
  }
 },
 "nbformat": 4,
 "nbformat_minor": 5
}
