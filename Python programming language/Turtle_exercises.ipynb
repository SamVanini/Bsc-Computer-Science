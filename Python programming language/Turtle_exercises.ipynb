{
 "cells": [
  {
   "cell_type": "markdown",
   "id": "1db2f795",
   "metadata": {},
   "source": [
    "# Esercitazione 1 - Turtle\n",
    "Questa esercitazione serve a prendere familiarità con alcuni delle istruzioni python viste fino a ora. In particolare, ci concentriamo sulla dichiarazione e sull'uso di variabili e funzioni.\n",
    "\n",
    "Quest'esercitazione è basata sul quarto capitolo del libro \"Think python\", disponibile gratuitamente sul [sito dell'autore](https://greenteapress.com/wp/think-python-2e/).\n",
    "Una traduzione italiana, poco aggiornata, si può trovare in [questo repository](https://github.com/AllenDowney/ThinkPythonItalian).\n",
    "\n",
    "## Turtle Graphic\n",
    "In questa esercitazione useremo una \"tartaruga digitale\" per creare disegni geometrici. Lo facciamo usando un implementazione python di [LOGO](https://it.wikipedia.org/wiki/Logo_(informatica)).\n",
    "\n",
    "Per creare una tartaruga, importiamo la libreria e creiamo un *oggetto* Turtle."
   ]
  },
  {
   "cell_type": "code",
   "execution_count": 1,
   "id": "ece56e84",
   "metadata": {
    "scrolled": true
   },
   "outputs": [
    {
     "name": "stdout",
     "output_type": "stream",
     "text": [
      "<turtle.Turtle object at 0x7fa675294d30> <class 'turtle.Turtle'>\n"
     ]
    }
   ],
   "source": [
    "# importiamo il modulo\n",
    "import turtle\n",
    "\n",
    "# creiamo l'oggetto. Il nome è arbitrario.\n",
    "# l'oggetto Turtle è nella libreria turtle (notare maiuscole e minuscole)\n",
    "donatello = turtle.Turtle()\n",
    "\n",
    "# stampiamo oggetto e tipo, per capire meglio come è fatto\n",
    "print(donatello, type(donatello))\n",
    "\n",
    "# questa funzione crea un interfaccia con la tartaruga\n",
    "turtle.mainloop()"
   ]
  },
  {
   "cell_type": "markdown",
   "id": "f6df17ab",
   "metadata": {},
   "source": [
    "La nostra tartaruga, per adesso, non fa niente. Per muoverla possiamo usare il metodo **fd** (oppure **forward**) per farla muovere in avanti di una certa lunghezza oppure **lt** (o **left**) per farla girare a sinistra di un certo numero di gradi. Notate che questo è un programma indipendente dal precedente, potrebbe essere necessario resettare il notebook (con il pulsante \"restart the kernel\", oppure premendo due volte zero, **0, 0**)."
   ]
  },
  {
   "cell_type": "code",
   "execution_count": 1,
   "id": "e36ca646",
   "metadata": {},
   "outputs": [],
   "source": [
    "import turtle\n",
    "\n",
    "# creiamo l'oggetto. Il nome è arbitrario.\n",
    "# l'oggetto Turtle è nella libreria turtle (notare maiuscole e minuscole)\n",
    "donatello = turtle.Turtle()\n",
    "\n",
    "# specifichiamo i comandi: avanza di 100, gira a sinistra di 90 gradi, avanza ancora\n",
    "donatello.forward(100)\n",
    "donatello.left(90)\n",
    "donatello.forward(100)\n",
    "\n",
    "# adesso la tartaruga si muove\n",
    "turtle.mainloop()"
   ]
  },
  {
   "cell_type": "markdown",
   "id": "14a66cfb",
   "metadata": {},
   "source": [
    "A lezione abbiamo visto come usare **for** per ripetere più volte lo stesso comando, proviamolo:"
   ]
  },
  {
   "cell_type": "code",
   "execution_count": 1,
   "id": "d8cc9d4c",
   "metadata": {},
   "outputs": [],
   "source": [
    "import turtle\n",
    "\n",
    "# creiamo l'oggetto. Il nome è arbitrario.\n",
    "# l'oggetto Turtle è nella libreria turtle (notare maiuscole e minuscole)\n",
    "donatello = turtle.Turtle()\n",
    "\n",
    "# ripeti 4 volte una coppia di comandi: avanza e gira\n",
    "for i in range(4):\n",
    "    donatello.forward(100)\n",
    "    donatello.left(90)\n",
    "    \n",
    "# Adesso disegniamo un quadrato\n",
    "turtle.mainloop()"
   ]
  },
  {
   "cell_type": "markdown",
   "id": "27fe2271",
   "metadata": {},
   "source": [
    "## Funzioni\n",
    "Il capitolo procede con una serie di esercizi. Chiede di creare una serie di funzioni di difficoltà crescente. Di seguito, trovate le soluzioni."
   ]
  },
  {
   "cell_type": "code",
   "execution_count": 1,
   "id": "4b4370d3",
   "metadata": {},
   "outputs": [],
   "source": [
    "import turtle\n",
    "import math\n",
    "\n",
    "def square(t, l):\n",
    "    \"\"\" disegna un quadrato di lunghezza <l> con la tartaruga <t>\"\"\"\n",
    "    for i in range(4):\n",
    "        t.fd(l)\n",
    "        t.lt(90)\n",
    "\n",
    "def polygon(t, n, l):\n",
    "    \"\"\" disegna un poligono di <n> lati di lunghezza <l> con la tartaruga <t>\"\"\"\n",
    "    for i in range(n):\n",
    "        t.fd(l)\n",
    "        t.lt(360/n)\n",
    "\n",
    "def circle(t, r):\n",
    "    \"\"\" disegna un cerchio di raggio <r> con la targaruga <t>\"\"\"\n",
    "    circonferenza = 2 * math.pi * r \n",
    "    # approssima un cerchio con n linee di lunghezza l\n",
    "    n = int(circonferenza/3) + 3\n",
    "    l = circonferenza / n\n",
    "    polygon(t, n, l)\n",
    "\n",
    "def arc(t, r, a):\n",
    "    \"\"\" disegna un arco di cerchio di raggio <r> e angolo <a> usando la tartaruga <t>\"\"\"\n",
    "    lunghezza_arco = (2 * math.pi * r * a) / 360 \n",
    "    n = int(lunghezza_arco/3) + 1\n",
    "    lunghezza_passo = lunghezza_arco / n\n",
    "    angolo_passo = a / n\n",
    "    for i in range(n):\n",
    "        t.fd(lunghezza_passo)\n",
    "        t.lt(angolo_passo)\n",
    "        \n",
    "squirtle = turtle.Turtle()\n",
    "\n",
    "# Potete provare a chiamare altre funzioni e usare parametri diversi per\n",
    "# disegnare figure alternative\n",
    "square(squirtle, 100)\n",
    "polygon(squirtle, 6, 100)\n",
    "circle(squirtle, 100)\n",
    "arc(squirtle, 100, 90)\n",
    "arc(squirtle, 150, 90)\n",
    "arc(squirtle, 200, 90)\n",
    "arc(squirtle, 250, 90)\n",
    "\n",
    "turtle.mainloop()"
   ]
  },
  {
   "cell_type": "markdown",
   "id": "63574d79",
   "metadata": {},
   "source": [
    "## Refactoring\n",
    "Nel programma precedente, ogni funzione lavora in modo indipendente. Si può notare che c'è molta sovrapposizione tra le varie funzioni. Si può quindi rifattorizzare il codice, ovvero ristrutturarlo per minimizzare le ripetizioni."
   ]
  },
  {
   "cell_type": "code",
   "execution_count": null,
   "id": "c46504ec",
   "metadata": {},
   "outputs": [],
   "source": [
    "import turtle\n",
    "import math\n",
    "\n",
    "# introduciamo una funzione generica polyline che farà da base alle altre\n",
    "def polyline(t, n, l, a):\n",
    "    \"\"\"\n",
    "    disegna una poli-linea con <n> lati di lunghezza <l>\n",
    "    separati da un angolo <a>. <t> è una tartaruga\n",
    "    \"\"\"\n",
    "    for i in range(n):\n",
    "        t.fd(l)\n",
    "        t.lt(a)\n",
    "\n",
    "# disegno poligoni usando polyline       \n",
    "def polygon(t, n, l):\n",
    "    \"\"\" disegna un poligono di <n> lati di lunghezza <l> con la tartaruga <t>\"\"\"\n",
    "    angle = 360.0 / n\n",
    "    polyline(t, n, l, angle)\n",
    "\n",
    "# il quadrato è un sottocaso dei poligoni\n",
    "def square(t, l):\n",
    "    \"\"\" disegna un quadrato di lunghezza <l> con la tartaruga <t>\"\"\"\n",
    "    polygon(t, 4, l)\n",
    "\n",
    "# con polyline possiamo semplificare arc\n",
    "def arc(t, r, a):\n",
    "    \"\"\" disegna un arco di cerchio di raggio <r> e angolo <a> usando la tartaruga <t>\"\"\"\n",
    "    lunghezza_arco = (2 * math.pi * r * a) / 360 \n",
    "    n = int(lunghezza_arco/3) + 1\n",
    "    lunghezza_passo = lunghezza_arco / n\n",
    "    angolo_passo = a / n\n",
    "    polyline(t, n, lunghezza_passo, angolo_passo)\n",
    "        \n",
    "# circle è un sottocaso di arc\n",
    "def circle(t, r):\n",
    "    \"\"\" disegna un cerchio di raggio <r> con la targaruga <t>\"\"\"\n",
    "    arc(t, r, 360)\n",
    "\n",
    "squirtle = turtle.Turtle()\n",
    "\n",
    "# Potete provare a modificare chiamare altre funzioni e usare parametri diversi per\n",
    "# disegnare figure alternative\n",
    "square(squirtle, 100)\n",
    "polygon(squirtle, 6, 100)\n",
    "circle(squirtle, 100)\n",
    "arc(squirtle, 100, 90)\n",
    "arc(squirtle, 150, 90)\n",
    "arc(squirtle, 200, 90)\n",
    "arc(squirtle, 250, 90)\n",
    "\n",
    "turtle.mainloop()"
   ]
  }
 ],
 "metadata": {
  "kernelspec": {
   "display_name": "Python 3",
   "language": "python",
   "name": "python3"
  },
  "language_info": {
   "codemirror_mode": {
    "name": "ipython",
    "version": 3
   },
   "file_extension": ".py",
   "mimetype": "text/x-python",
   "name": "python",
   "nbconvert_exporter": "python",
   "pygments_lexer": "ipython3",
   "version": "3.8.8"
  }
 },
 "nbformat": 4,
 "nbformat_minor": 5
}
