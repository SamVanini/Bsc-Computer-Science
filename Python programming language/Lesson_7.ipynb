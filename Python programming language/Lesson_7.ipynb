{
 "cells": [
  {
   "cell_type": "markdown",
   "id": "9cc42c24",
   "metadata": {},
   "source": [
    "# Lezione 7 - Classi\n",
    "L'uso delle classi ci permette di creare tipi \"personali\". Questo ci aiuta a organizzare il codice.\n",
    "Il paradigma che si occupa di definire come creare e lavorare con queste classi è noto come *programmazione ad oggetti (OOP)*. L'OOP è un topic enorme. Nel corso vedremo solo una piccola parte, principalmente legata all'uso di classi e oggetti già pronti. "
   ]
  },
  {
   "cell_type": "code",
   "execution_count": 1,
   "id": "08430207",
   "metadata": {},
   "outputs": [],
   "source": [
    "# la classe Punto è un tipo da me definito\n",
    "class Punto:\n",
    "    \"\"\" Rappresenta un punto in un piano bidimensionale \"\"\"\n"
   ]
  },
  {
   "cell_type": "code",
   "execution_count": 2,
   "id": "536de16d",
   "metadata": {},
   "outputs": [
    {
     "name": "stdout",
     "output_type": "stream",
     "text": [
      "p.x = 5.0, p.y = 6.0\n",
      "p.x = 12, p.y = 6.0\n"
     ]
    }
   ],
   "source": [
    "# p è un istanza di Punto ( = oggetto di tipo Punto)\n",
    "p = Punto()\n",
    "p.x = 5.0\n",
    "p.y = 6.0\n",
    "p.z = 2\n",
    "print(f\"{p.x = }, {p.y = }\")\n",
    "p.x = 12\n",
    "print(f\"{p.x = }, {p.y = }\")"
   ]
  },
  {
   "cell_type": "code",
   "execution_count": 3,
   "id": "a94fb4e8",
   "metadata": {},
   "outputs": [
    {
     "name": "stdout",
     "output_type": "stream",
     "text": [
      "q.x = 1, q.y = 2\n",
      "q.x = 2, q.y = 3\n"
     ]
    }
   ],
   "source": [
    "q = Punto()\n",
    "q.x = 1\n",
    "q.y = 2\n",
    "print(f\"{q.x = }, {q.y = }\")\n",
    "\n",
    "def sposta(punto):\n",
    "    punto.x += 1\n",
    "    punto.y += 1\n",
    "\n",
    "# q viene modificato!\n",
    "sposta(q)\n",
    "    \n",
    "print(f\"{q.x = }, {q.y = }\")"
   ]
  },
  {
   "cell_type": "code",
   "execution_count": 4,
   "id": "3411973f",
   "metadata": {},
   "outputs": [
    {
     "name": "stdout",
     "output_type": "stream",
     "text": [
      "(2 2) == (2 2), True\n",
      "(2 2) == (2 2), False\n"
     ]
    }
   ],
   "source": [
    "import copy\n",
    "\n",
    "a = Punto()\n",
    "a.x, a.y = 2, 2\n",
    "\n",
    "c = a\n",
    "print(f\"({a.x} {a.y}) == ({c.x} {c.y}), {c is a}\")\n",
    "\n",
    "d = copy.copy(a)\n",
    "print(f\"({a.x} {a.y}) == ({d.x} {d.y}), {d is a}\")\n"
   ]
  },
  {
   "cell_type": "code",
   "execution_count": 5,
   "id": "58801a13",
   "metadata": {
    "scrolled": true
   },
   "outputs": [
    {
     "name": "stdout",
     "output_type": "stream",
     "text": [
      "da (0, 0) a (5, 2)\n",
      "True True\n",
      "False True\n",
      "False False\n"
     ]
    }
   ],
   "source": [
    "class Segmento:\n",
    "    \"\"\" Rappresenta il segmento che passa dal punto inizio al punto fine \"\"\"\n",
    "\n",
    "r = Segmento()\n",
    "r.inizio = Punto()\n",
    "r.inizio.x, r.inizio.y = 0, 0\n",
    "r.fine = Punto()\n",
    "r.fine.x, r.fine.y = 5, 2\n",
    "print(f\"da {r.inizio.x, r.inizio.y} a {r.fine.x, r.fine.y}\")\n",
    "\n",
    "r2 = r\n",
    "print(r is r2, r.inizio is r2.inizio)\n",
    "r3 = copy.copy(r)\n",
    "print(r is r3, r.inizio is r3.inizio)\n",
    "r4 = copy.deepcopy(r)\n",
    "print(r is r4, r.inizio is r4.inizio)"
   ]
  },
  {
   "cell_type": "code",
   "execution_count": 6,
   "id": "c6b64816",
   "metadata": {},
   "outputs": [
    {
     "name": "stdout",
     "output_type": "stream",
     "text": [
      "11:59:07\n"
     ]
    }
   ],
   "source": [
    "class Time:\n",
    "    \"\"\" Rappresenta l'ora del giorno\n",
    "       \n",
    "        Attributi: hour, minute, second.\n",
    "    \"\"\"\n",
    "    def print_time(self):\n",
    "        print(f\"{self.hour:02}:{self.minute:02}:{self.second:02}\")\n",
    "\n",
    "time = Time()\n",
    "time.hour = 11\n",
    "time.minute = 59\n",
    "time.second = 7\n",
    "time.print_time()"
   ]
  },
  {
   "cell_type": "code",
   "execution_count": 7,
   "id": "cff468eb",
   "metadata": {},
   "outputs": [
    {
     "name": "stdout",
     "output_type": "stream",
     "text": [
      "13:23:19\n"
     ]
    }
   ],
   "source": [
    "class Time:\n",
    "    \"\"\" Rappresenta l'ora del giorno\n",
    "       \n",
    "        Attributi: hour, minute, second.\n",
    "    \"\"\"\n",
    "    def print_time(self):\n",
    "        print(f\"{self.hour:02}:{self.minute:02}:{self.second:02}\")\n",
    "        \n",
    "    def add_time(self, time):\n",
    "        self.second += time.second\n",
    "        if self.second >= 60:\n",
    "            self.second -= 60\n",
    "            self.minute += 1\n",
    "        self.minute += time.minute\n",
    "        if self.minute >= 60:\n",
    "            self.minute -= 60\n",
    "            self.hour += 1\n",
    "        self.hour += time.hour\n",
    "    \n",
    "    def add_seconds(self, seconds):\n",
    "        self.second += seconds\n",
    "        while self.second >= 60:\n",
    "            self.second -= 60\n",
    "            self.minute += 1\n",
    "        while self.minute >= 60:\n",
    "            self.minute -= 60\n",
    "            self.hour += 1\n",
    "            \n",
    "start = Time()\n",
    "start.hour, start.minute, start.second = 11, 59, 30\n",
    "elapse = Time()\n",
    "elapse.hour, elapse.minute, elapse.second = 1, 22, 19\n",
    "\n",
    "start.add_time(elapse)\n",
    "start.add_seconds(90)\n",
    "start.print_time()\n"
   ]
  },
  {
   "cell_type": "code",
   "execution_count": 8,
   "id": "3a68bcc6",
   "metadata": {},
   "outputs": [
    {
     "name": "stdout",
     "output_type": "stream",
     "text": [
      "111:02:30\n"
     ]
    }
   ],
   "source": [
    "class Time:\n",
    "    \"\"\" Rappresenta l'ora del giorno\n",
    "       \n",
    "        Attributi: hour, minute, second.\n",
    "    \"\"\"\n",
    "    def __init__(self, hour=0, minute=0, second=0):\n",
    "        self.hour = hour\n",
    "        self.minute = minute\n",
    "        self.second = second\n",
    "    \n",
    "    def __str__(self):\n",
    "        return f\"{self.hour:02}:{self.minute:02}:{self.second:02}\"\n",
    "    \n",
    "    def __add__(self, other):\n",
    "        if isinstance(other, int):\n",
    "            return self.add_seconds(other)\n",
    "        elif isinstance(other, Time):\n",
    "            return self.add_time(other)\n",
    "        else:\n",
    "            raise ValueError(\"unsupported operation\")\n",
    "\n",
    "    def __radd__(self, other):\n",
    "        return self.__add__(other)\n",
    "\n",
    "    def add_time(self, time):\n",
    "        self.second += time.second\n",
    "        if self.second >= 60:\n",
    "            self.second -= 60\n",
    "            self.minute += 1\n",
    "        self.minute += time.minute\n",
    "        if self.minute >= 60:\n",
    "            self.minute -= 60\n",
    "            self.hour += 1\n",
    "        self.hour += time.hour\n",
    "        return self\n",
    "    \n",
    "    def add_seconds(self, seconds):\n",
    "        self.second += seconds\n",
    "        while self.second >= 60:\n",
    "            self.second -= 60\n",
    "            self.minute += 1\n",
    "        while self.minute >= 60:\n",
    "            self.minute -= 60\n",
    "            self.hour += 1\n",
    "        return self\n",
    "\n",
    "start = Time(110, 59, 30)\n",
    "elapsed = Time(1, 22, 19)\n",
    "\n",
    "\n",
    "# chiama __add__\n",
    "start  = start + 90\n",
    "# chiama __radd__\n",
    "start = 90 + start\n",
    "\n",
    "print(start)"
   ]
  },
  {
   "cell_type": "code",
   "execution_count": 9,
   "id": "106f831c",
   "metadata": {},
   "outputs": [
    {
     "name": "stdout",
     "output_type": "stream",
     "text": [
      "['__add__', '__class__', '__delattr__', '__dict__', '__dir__', '__doc__', '__eq__', '__format__', '__ge__', '__getattribute__', '__gt__', '__hash__', '__init__', '__init_subclass__', '__le__', '__lt__', '__module__', '__ne__', '__new__', '__radd__', '__reduce__', '__reduce_ex__', '__repr__', '__setattr__', '__sizeof__', '__str__', '__subclasshook__', '__weakref__', 'add_seconds', 'add_time', 'hour', 'minute', 'second']\n",
      "--------------------\n",
      "{'hour': 111, 'minute': 2, 'second': 30}\n"
     ]
    }
   ],
   "source": [
    "# stampa tutto il contenuto della classe (metodi e attributi)\n",
    "print(dir(start))\n",
    "print('-'*20)\n",
    "# stampa gli attributi della classe\n",
    "print(vars(start))"
   ]
  },
  {
   "cell_type": "code",
   "execution_count": 10,
   "id": "1fd9b004",
   "metadata": {},
   "outputs": [
    {
     "name": "stdout",
     "output_type": "stream",
     "text": [
      "False True\n"
     ]
    }
   ],
   "source": [
    "class Padre():\n",
    "    \"\"\" classe padre \"\"\"\n",
    "\n",
    "    \n",
    "class Figlio(Padre):\n",
    "    \"\"\" classe figlio, eredita da Padre \"\"\"\n",
    "    \n",
    "p = Padre()\n",
    "f = Figlio()\n",
    "# il figlio fa tutto quello che fa il padre, ma non vice versa\n",
    "print(isinstance(p, Figlio), isinstance(f, Padre))"
   ]
  },
  {
   "cell_type": "code",
   "execution_count": 11,
   "id": "92e90b75",
   "metadata": {},
   "outputs": [
    {
     "name": "stdout",
     "output_type": "stream",
     "text": [
      "[2, 4, 6, 8, 10]\n"
     ]
    }
   ],
   "source": [
    "def raddoppia(x):\n",
    "    return x * 2\n",
    "\n",
    "l = [i for i in range(1, 6)]\n",
    "l = list(map(raddoppia, l))\n",
    "print(l)"
   ]
  },
  {
   "cell_type": "code",
   "execution_count": 12,
   "id": "4763afa2",
   "metadata": {
    "scrolled": false
   },
   "outputs": [
    {
     "name": "stdout",
     "output_type": "stream",
     "text": [
      "0\n",
      "1\n",
      "2\n",
      "3\n",
      "4\n",
      "5\n",
      "6\n",
      "7\n",
      "8\n",
      "9\n",
      "0\n",
      "1\n",
      "2\n",
      "3\n",
      "4\n",
      "5\n",
      "6\n",
      "7\n",
      "8\n",
      "9\n"
     ]
    }
   ],
   "source": [
    "l = [i for i in range(10)]\n",
    "\n",
    "# uso esplicito dell'iteratore\n",
    "for i in iter(l):\n",
    "    print(i)\n",
    "\n",
    "# uso implicito, ma identico!\n",
    "for i in l:\n",
    "    print(i)"
   ]
  },
  {
   "cell_type": "code",
   "execution_count": 13,
   "id": "a8283182",
   "metadata": {},
   "outputs": [
    {
     "name": "stdout",
     "output_type": "stream",
     "text": [
      "0,1,2,3,4,5,6,7,8,9,"
     ]
    }
   ],
   "source": [
    "def my_range(n):\n",
    "    \"\"\" versione semplificata di range \"\"\"\n",
    "    i = 0\n",
    "    while i < n:\n",
    "        yield i\n",
    "        i += 1\n",
    "\n",
    "for i in my_range(10):\n",
    "    print(i, end=',')"
   ]
  },
  {
   "cell_type": "code",
   "execution_count": 14,
   "id": "66f82c4c",
   "metadata": {},
   "outputs": [
    {
     "name": "stdout",
     "output_type": "stream",
     "text": [
      "<class 'generator'>\n",
      "[0, 2, 4, 6, 8, 10, 12, 14, 16, 18]\n"
     ]
    }
   ],
   "source": [
    "l1 = [i*2 for i in range(10)]\n",
    "print(type(i*2 for i in range(10)))\n",
    "print(l1)"
   ]
  },
  {
   "cell_type": "code",
   "execution_count": 15,
   "id": "afe7e56e",
   "metadata": {},
   "outputs": [
    {
     "name": "stdout",
     "output_type": "stream",
     "text": [
      "Funzione somma eseguita in 0.0000s\n",
      "Funzione somma eseguita in 0.7006s\n"
     ]
    },
    {
     "data": {
      "text/plain": [
       "49999995000000"
      ]
     },
     "execution_count": 15,
     "metadata": {},
     "output_type": "execute_result"
    }
   ],
   "source": [
    "from time import time\n",
    "\n",
    "def timer(func):\n",
    "    \n",
    "    # stampa il tempo di esecuzione di una funzione \n",
    "    def wrap_func(*args, **kwargs):\n",
    "        t1 = time()\n",
    "        result = func(*args, **kwargs)\n",
    "        t2 = time()\n",
    "        print(f'Funzione {func.__name__} eseguita in {(t2-t1):.4f}s')\n",
    "        return result\n",
    "    return wrap_func\n",
    "\n",
    "@timer\n",
    "\n",
    "def somma(n):\n",
    "    res = 0\n",
    "    for i in range(n):\n",
    "        res += i\n",
    "    return res\n",
    "\n",
    "somma(10)\n",
    "somma(10000000)"
   ]
  },
  {
   "cell_type": "markdown",
   "id": "3ec7444f",
   "metadata": {},
   "source": [
    "# Time - Esempio esteso\n",
    "Questa sezione presenta una verione estesa della classe time, in qui viene usato il decoratore @property per mascherare gli attributi interni della classe. Notare che il setter di ore, minuti e secondi ci assicura che il valore ritornato sia normalizzato correttamente (ovvero, ore e minuti devono essere minori di 60)"
   ]
  },
  {
   "cell_type": "code",
   "execution_count": 16,
   "id": "fa89f7a6",
   "metadata": {},
   "outputs": [
    {
     "name": "stdout",
     "output_type": "stream",
     "text": [
      "11:59:30\n",
      "00:05:45\n",
      "11:59:30 + 00:05:45 = 12:05:15\n",
      "12:08:15\n",
      "12:09:45\n"
     ]
    }
   ],
   "source": [
    "class Time:\n",
    "    \"\"\" Rappresenta l'ora del giorno\n",
    "       \n",
    "        Attributi: hour, minute, second.\n",
    "    \"\"\"\n",
    "    def __init__(self, hour=0, minute=0, second=0):\n",
    "        # questo usa le @property definite in seguito\n",
    "        self.hour = hour\n",
    "        self.minute = minute\n",
    "        self.second = second\n",
    "    \n",
    "    # hour è una proprietà/metodo della classe, che fa riferimento al valore interno _hour.\n",
    "    # _hour è interno alla property e non può essere usato fuori\n",
    "    @property\n",
    "    def hour(self):\n",
    "        return self._hour\n",
    "\n",
    "    @property\n",
    "    def minute(self):\n",
    "        return self._minute\n",
    "\n",
    "    @property\n",
    "    def second(self):\n",
    "        return self._second\n",
    "\n",
    "    @hour.setter\n",
    "    def hour(self, value):\n",
    "        self._hour = value\n",
    "    \n",
    "    @minute.setter\n",
    "    def minute(self, value):\n",
    "        # normalizza i minuti\n",
    "        self._minute = value % 60\n",
    "        self.hour += value // 60\n",
    "\n",
    "    @second.setter\n",
    "    def second(self, value):\n",
    "        self._second = value % 60\n",
    "        self.minute += value // 60\n",
    "\n",
    "    def __str__(self):\n",
    "        return f\"{self.hour:02}:{self.minute:02}:{self.second:02}\"\n",
    "\n",
    "    def add_time(self, other : 'Time'):\n",
    "        return Time(\n",
    "                self.hour + other.hour,\n",
    "                self.minute + other.minute,\n",
    "                self.second + other.second)\n",
    "    \n",
    "    def add_second(self, other : int):\n",
    "        return self + Time(second=other)\n",
    "    \n",
    "    def __add__(self, other):\n",
    "        if isinstance(other, int):\n",
    "            return self.add_second(other)\n",
    "        elif isinstance(other, Time):\n",
    "            return self.add_time(other)\n",
    "        else:\n",
    "            raise ValueError(\"unsupported operation\")\n",
    "\n",
    "    def __radd__(self, other):\n",
    "        return self.__add__(other)\n",
    "\n",
    "start = Time(11, 59, 30)\n",
    "print(start)\n",
    "elapsed = Time(second=345)\n",
    "print(elapsed)\n",
    "\n",
    "# chiama add_time\n",
    "end = start + elapsed\n",
    "\n",
    "print(f\"{start} + {elapsed} = {end}\")\n",
    "\n",
    "# in entrambi chiama __add__ -> add_second\n",
    "end = end + 90\n",
    "end += 90\n",
    "print(end)\n",
    "\n",
    "# chiama __radd__ -> __add__ -> add_second\n",
    "end = 90 + end\n",
    "print(end)\n",
    "\n"
   ]
  }
 ],
 "metadata": {
  "kernelspec": {
   "display_name": "Python 3",
   "language": "python",
   "name": "python3"
  },
  "language_info": {
   "codemirror_mode": {
    "name": "ipython",
    "version": 3
   },
   "file_extension": ".py",
   "mimetype": "text/x-python",
   "name": "python",
   "nbconvert_exporter": "python",
   "pygments_lexer": "ipython3",
   "version": "3.8.10"
  }
 },
 "nbformat": 4,
 "nbformat_minor": 5
}
