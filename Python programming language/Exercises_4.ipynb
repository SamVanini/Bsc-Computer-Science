{
 "cells": [
  {
   "cell_type": "markdown",
   "id": "95bac8ff",
   "metadata": {},
   "source": [
    "# Esercizio 1\n",
    "Implementate la funzione `carica_lista(input)`. Essa riceve in input il nome di un file `input`. Questo file contiene un numero intero per riga. La funzione deve restituire una lista di numeri interi contenente tutti i numeri presenti in `input`.\n",
    "\n",
    "Implementate poi `somma_bassi(lista)`. Essa calcola la media di tutti gli elementi presenti nella lista, e ritorna la somma di tutti gli elementi che sono strettamente minori della media.\n",
    "\n",
    "Per esempio: `somma_bassi([1, 2, 10, 11])` ritorna 3 (la somma di 1 e 2), mentre `somma_bassi([0, 1, 2])` ritorna 0, l'unico numero strettamente sotto la media (i.e., 1).\n",
    "\n",
    "Assunzioni:\n",
    "* Il file contiene un numero intero per riga, adeguatamente formattato.\n",
    "* Il file non contiene righe vuote, e non contiene nessun header."
   ]
  },
  {
   "cell_type": "code",
   "execution_count": null,
   "id": "e29e96c3",
   "metadata": {},
   "outputs": [],
   "source": [
    "from typing import List\n",
    "\n",
    "def carica_lista(input :str) -> List[int]:\n",
    "    output = list()\n",
    "    with open(input) as f:\n",
    "        for line in f:\n",
    "            output.append(int(line))\n",
    "    return output\n",
    "\n",
    "def somma_bassi(lista : List[int]) -> int:\n",
    "    res = 0\n",
    "    media = sum(lista) /len(lista)\n",
    "    for el in lista:\n",
    "        if el < media:\n",
    "            res = res + el\n",
    "    return res"
   ]
  },
  {
   "cell_type": "code",
   "execution_count": null,
   "id": "cd695343",
   "metadata": {},
   "outputs": [],
   "source": [
    "assert somma_bassi([1, 2, 10, 11]) == 3\n",
    "assert somma_bassi([0, 1, 2]) == 0\n",
    "\n",
    "l = carica_lista('esempio1.txt')\n",
    "assert somma_bassi(l) == 183"
   ]
  },
  {
   "cell_type": "markdown",
   "id": "194f3d21",
   "metadata": {},
   "source": [
    "# Esercizio 2\n",
    "Implementate le funzioni `fizz_buzz(n)`. Essa prende un numero intero positivo `n` e ritorna la stringa `\"fizz\"` se `n` è divisibile per 3, `\"buzz\"` se `n` è divisibile per 5, `\"fizzbuzz\"` se `n` è divisibile sia per 3 che per 5. In tutti gli altri casi, la funzione ritorna il numero `n` convertito in stringa.\n",
    "Per esempio, `fizz_buzz(2)` ritorna la stringa `\"2\"`, `fizz_buzz(5)` ritorna `\"buzz\"`, `fizz_buzz(6)` ritorna `\"fizz\"`, `fizz_buzz(15)` ritorna `\"fizzbuzz\"`.\n",
    "\n",
    "Implementate poi la funzione `fizz_buzz_serires(n)`. Essa prende un numero intero positivo `n`, e restituisce una stringa che contiene tutti i valori di `fizz_buzz` compresi tra 1 e `n`, estremi inclusi. Questi valori devono essere separati tra loro usando una virgola e uno spazio, i.e. `\", \"`. Per esempio, `fizz_buzz_series(10)` ritorna `\"1, 2, fizz, 4, buzz, fizz, 7, 8, fizz, buzz\"`."
   ]
  },
  {
   "cell_type": "code",
   "execution_count": null,
   "id": "abfcce90",
   "metadata": {},
   "outputs": [],
   "source": [
    "def fizz_buzz(n : int) -> str:\n",
    "    if (n % 3 == 0) and (n % 5 == 0):\n",
    "        return 'fizzbuzz'\n",
    "    elif n % 3 == 0:\n",
    "        return 'fizz'\n",
    "    elif n % 5 == 0:\n",
    "        return 'buzz'\n",
    "    else:\n",
    "        return str(n)\n",
    "\n",
    "def fizz_buzz_series(n : int) -> str:\n",
    "    return \", \".join(fizz_buzz(i) for i in range(1, n+1))"
   ]
  },
  {
   "cell_type": "code",
   "execution_count": null,
   "id": "270a0c94",
   "metadata": {},
   "outputs": [],
   "source": [
    "assert fizz_buzz(2)  == \"2\"\n",
    "assert fizz_buzz(5)  == \"buzz\"\n",
    "assert fizz_buzz(6)  == \"fizz\"\n",
    "assert fizz_buzz(15) == \"fizzbuzz\"\n",
    "\n",
    "assert fizz_buzz_series(3)  == \"1, 2, fizz\"\n",
    "assert fizz_buzz_series(10) == \"1, 2, fizz, 4, buzz, fizz, 7, 8, fizz, buzz\"\n",
    "assert fizz_buzz_series(16) == \"1, 2, fizz, 4, buzz, fizz, 7, 8, fizz, buzz, 11, fizz, 13, 14, fizzbuzz, 16\"\n"
   ]
  },
  {
   "cell_type": "markdown",
   "id": "f90bd364",
   "metadata": {},
   "source": [
    "# Esercizio 3\n",
    "Implementare la funzione `trova_estensione(base, estesa)`. Essa riceve due liste di numeri interi, `base` e `estesa`. Ogni numero nella lista `base` è un numero intero univoco, ovvero non appare altre volte nella stessa lista. La lista `estesa` contiene tutti gli stessi numeri di `base`, possibilmente ordinati in modo diverso, più un nuovo numero univoco chiamato `estensione`. La funzione deve trovare e restituire `estensione`. La funzione non deve in alcun modo modificare le liste `base` e `estesa`.\n",
    "\n",
    "Per esempio, `trova_estensione([1, 2, 3], [3, 0, 1, 2])` restituisce `0`."
   ]
  },
  {
   "cell_type": "code",
   "execution_count": null,
   "id": "fafaa2b3",
   "metadata": {},
   "outputs": [],
   "source": [
    "from typing import List\n",
    "def trova_estensione(base : List[int], estesa: List[int]) -> int:\n",
    "    for i in estesa:\n",
    "        if not i in base:\n",
    "            return i"
   ]
  },
  {
   "cell_type": "code",
   "execution_count": null,
   "id": "01911d38",
   "metadata": {},
   "outputs": [],
   "source": [
    "assert trova_estensione([1, 2, 3], [3, 0, 1, 2]) == 0\n",
    "assert trova_estensione([ i for i in range(1000)], [ i for i in range(1000)] + [-1]) == -1\n",
    "assert trova_estensione([ i for i in range(1000)], [ i for i in range(1000)] + [10000]) == 10000"
   ]
  }
 ],
 "metadata": {
  "interpreter": {
   "hash": "31f2aee4e71d21fbe5cf8b01ff0e069b9275f58929596ceb00d14d90e3e16cd6"
  },
  "kernelspec": {
   "display_name": "Python 3.6.9 64-bit",
   "language": "python",
   "name": "python3"
  },
  "language_info": {
   "codemirror_mode": {
    "name": "ipython",
    "version": 3
   },
   "file_extension": ".py",
   "mimetype": "text/x-python",
   "name": "python",
   "nbconvert_exporter": "python",
   "pygments_lexer": "ipython3",
   "version": "3.6.9"
  }
 },
 "nbformat": 4,
 "nbformat_minor": 5
}
