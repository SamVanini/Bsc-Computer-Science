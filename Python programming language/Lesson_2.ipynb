{
 "cells": [
  {
   "cell_type": "markdown",
   "id": "46d9040c",
   "metadata": {},
   "source": [
    "# Lezione 2 - Variabili, tipi, funzioni, liste"
   ]
  },
  {
   "cell_type": "markdown",
   "id": "6ffe8874",
   "metadata": {},
   "source": [
    "La funzione type() ci ritorna il tipo di un elemento. La useremo per esplorare alcuni degli elementi del python."
   ]
  },
  {
   "cell_type": "code",
   "execution_count": 14,
   "id": "b3e4c5ef",
   "metadata": {},
   "outputs": [
    {
     "name": "stdout",
     "output_type": "stream",
     "text": [
      "<class 'int'>\n",
      "<class 'float'>\n",
      "<class 'int'>\n",
      "<class 'int'>\n",
      "che \"bello\"\n",
      "<class 'type'>\n",
      "5\n",
      "<class 'NoneType'>\n",
      "<class 'list'>\n",
      "1.4142135623730951 <class 'float'>\n",
      "(8.659560562354934e-17+1.4142135623730951j) <class 'complex'>\n"
     ]
    }
   ],
   "source": [
    "print(type(10))\n",
    "\n",
    "# divisione -> float\n",
    "print(type(10/2))\n",
    "# divisione intera -> int\n",
    "print(type(10//2))\n",
    "# python può gestire numeri molto grandi (più di 32 o 64 bit)\n",
    "print(type(10000000000000000000000000000000000000000000000000000000000))\n",
    "\n",
    "# '', \"\", \"\"\"\"\"\" sono tutte stringhe\n",
    "print('che \"bello\"')\n",
    "\n",
    "print(type(type(5)))\n",
    "\n",
    "# print è una funzione che non ritorna niente, il suo tipo è NoneType\n",
    "print(type(print(5)))\n",
    "print(type([1, 2, 3]))\n",
    "\n",
    "# i numeri vengono promossi a complessi solo quando serve\n",
    "print(2**(1/2) , type(2**(1/2)))\n",
    "print((-2)**(1/2) , type((-2)**(1/2)))"
   ]
  },
  {
   "cell_type": "markdown",
   "id": "f02c5d9d",
   "metadata": {},
   "source": [
    "Con id() possiamo stampare l'indirizzo di memoria di un elemento, hex lo riformatta in esadecimale (utile per compattare la scrittura, ma non indispensabile)"
   ]
  },
  {
   "cell_type": "code",
   "execution_count": 24,
   "id": "65d6a803",
   "metadata": {},
   "outputs": [
    {
     "name": "stdout",
     "output_type": "stream",
     "text": [
      "0x955ea0 0x955f40\n"
     ]
    }
   ],
   "source": [
    "a = 5\n",
    "b = 10\n",
    "print(hex(id(a)), hex(id(b)))"
   ]
  },
  {
   "cell_type": "code",
   "execution_count": 25,
   "id": "abc734a3",
   "metadata": {},
   "outputs": [
    {
     "name": "stdout",
     "output_type": "stream",
     "text": [
      "0x955ea0 0x955ea0\n"
     ]
    }
   ],
   "source": [
    "b = 5\n",
    "print(hex(id(a)), hex(id(b)))"
   ]
  },
  {
   "cell_type": "code",
   "execution_count": 19,
   "id": "d8701158",
   "metadata": {},
   "outputs": [
    {
     "name": "stdout",
     "output_type": "stream",
     "text": [
      "4188.790204786391\n",
      "-----------------\n"
     ]
    }
   ],
   "source": [
    "import math\n",
    "\n",
    "# posso importare il pi greco dalla libreria matematica\n",
    "r = 10\n",
    "V = (4/3) * math.pi * r**3\n",
    "print(V)\n",
    "# posso usare una moltiplicazione per ripetere più volte le stesso carattere\n",
    "print('-'*17)"
   ]
  },
  {
   "cell_type": "markdown",
   "id": "17beebe7",
   "metadata": {},
   "source": [
    "Numeri e stringhe sono tipi immutabili, le liste sono invece mutabili. Questo ha conseguenze importanti!"
   ]
  },
  {
   "cell_type": "code",
   "execution_count": 1,
   "id": "30da0b35",
   "metadata": {
    "scrolled": true
   },
   "outputs": [
    {
     "name": "stdout",
     "output_type": "stream",
     "text": [
      "0x955ea0 0x955f40 0x955ea0\n",
      "0x955f40 0x955f40 0x955ea0\n",
      "[1, 2, 3] [1, 2, 3]\n",
      "0x7ff6ce5b4680 0x7ff6ce5b4680\n",
      "[1, 2, 3, 4] [1, 2, 3, 4]\n",
      "0x7ff6ce5b4680 0x7ff6ce5b4680\n",
      "[1, 2, 3, 4, 5] [1, 2, 3, 4]\n",
      "[0, 0, 0, 0, 0, 0, 0, 0, 0, 0]\n",
      "[1, 'ciao', [1, 2, 3]]\n",
      "[[1], [1], [1], [1]]\n",
      "[[1], [], [], []]\n"
     ]
    }
   ],
   "source": [
    "# immutabili\n",
    "a = 5\n",
    "b = 10\n",
    "c = a\n",
    "\n",
    "# a e c puntano a 5, b a 10\n",
    "print(hex(id(a)), hex(id(b)), hex(id(c)))\n",
    "\n",
    "# a punta verso 10 e diventa uguale a b, c non viene modificato (punta ancora a 5)\n",
    "a = 10\n",
    "print(hex(id(a)), hex(id(b)), hex(id(c)))\n",
    "\n",
    "# mutabili\n",
    "\n",
    "l = [1, 2, 3]\n",
    "h = l\n",
    "\n",
    "# l e h puntano alla stessa lista\n",
    "print(l, h)\n",
    "print(hex(id(l)), hex(id(h)))\n",
    "\n",
    "l.append(4)\n",
    "# l e h puntano ancora alla stessa lista! h vede le modifiche di l\n",
    "print(l, h)\n",
    "print(hex(id(l)), hex(id(h)))\n",
    "\n",
    "# usando la +, creo una copia. Adesso h non vede le modifche di l\n",
    "l = l + [5]\n",
    "print(l, h)\n",
    "\n",
    "# posso usare la moltiplicazione per ripetere dieci volte lo stesso valore\n",
    "k = [0] * 10\n",
    "print(k)\n",
    "\n",
    "# posso mettere oggetti di tipo diverso dentro la lista (comprese altre liste)\n",
    "j = [1, 'ciao', [1, 2, 3]]\n",
    "print(j)\n",
    "\n",
    "# attenzione! Questo codice può generare bug!\n",
    "# sto mettendo 4 puntatori alla stessa lista vuota!\n",
    "init = [[]] * 4\n",
    "# TUTTE le liste hanno 1 dentro\n",
    "init[0].append(1)\n",
    "print(init)\n",
    "\n",
    "# queste invece sono 4 liste vuote indipendenti\n",
    "init = [ [], [], [], [] ]\n",
    "# solo la prima ha 1\n",
    "init[0].append(1)\n",
    "print(init)"
   ]
  },
  {
   "cell_type": "markdown",
   "id": "01590cd0",
   "metadata": {},
   "source": [
    "modificare una lista costa molto meno (in termine di prestazioni) rispetto a creare una copia e modificare la copia."
   ]
  },
  {
   "cell_type": "code",
   "execution_count": 8,
   "id": "61b014c9",
   "metadata": {},
   "outputs": [
    {
     "name": "stdout",
     "output_type": "stream",
     "text": [
      "100000 0.023046016693115234\n"
     ]
    }
   ],
   "source": [
    "import time\n",
    "\n",
    "start = time.time()\n",
    "l = []\n",
    "for i in range(10000):\n",
    "    l.append(i)\n",
    "end = time.time()\n",
    "print(len(l), end-start)"
   ]
  },
  {
   "cell_type": "code",
   "execution_count": 4,
   "id": "a6bb5ad6",
   "metadata": {},
   "outputs": [
    {
     "name": "stdout",
     "output_type": "stream",
     "text": [
      "100000 24.43245816230774\n"
     ]
    }
   ],
   "source": [
    "import time\n",
    "\n",
    "start = time.time()\n",
    "l2 = []\n",
    "for i in range(10000):\n",
    "    l2 = l2 + [i]\n",
    "end = time.time()\n",
    "# il tempo è 100 volte più grande del caso precedente\n",
    "print(len(l2), end-start)"
   ]
  },
  {
   "cell_type": "markdown",
   "id": "07989730",
   "metadata": {},
   "source": [
    "Con 10'000 elementi, il codice è 100 volte più lento quando faccio le copie. Potete provare a usare valori più grandi (e.g., 100'000), la differenza di tempo sarà ancora più marcata (nel mio caso ~1000 volte più lento)"
   ]
  },
  {
   "cell_type": "code",
   "execution_count": 13,
   "id": "3ced063b",
   "metadata": {
    "scrolled": false
   },
   "outputs": [
    {
     "name": "stdout",
     "output_type": "stream",
     "text": [
      "['python', 0]\n",
      "['python', 0, 0]\n",
      "['python', 0, 0, 0]\n",
      "['python', 0, 0, 0, 0]\n",
      "['python', 0, 0, 0, 0]\n",
      "['python', 0, 0, 0, 0]\n",
      "['python', 0, 0, 0]\n"
     ]
    }
   ],
   "source": [
    "# la lista originale viene modificata\n",
    "def man_list(l):\n",
    "    l.append(0)\n",
    "    print(l)\n",
    "\n",
    "# creo una copia interna che modifico.\n",
    "# I cambiamenti non sono visitibili dopo la chiamata, solo nel print interno\n",
    "def man_list_alt(l):\n",
    "    l = l + [0]\n",
    "    print(l)\n",
    "\n",
    "l = ['python']\n",
    "# ogni chiamata modifica la lista\n",
    "man_list(l)\n",
    "man_list(l)\n",
    "man_list(l)\n",
    "\n",
    "# nessuna modifica duratura\n",
    "man_list_alt(l)\n",
    "man_list_alt(l)\n",
    "man_list_alt(l)\n",
    "\n",
    "print(l)"
   ]
  }
 ],
 "metadata": {
  "kernelspec": {
   "display_name": "Python 3",
   "language": "python",
   "name": "python3"
  },
  "language_info": {
   "codemirror_mode": {
    "name": "ipython",
    "version": 3
   },
   "file_extension": ".py",
   "mimetype": "text/x-python",
   "name": "python",
   "nbconvert_exporter": "python",
   "pygments_lexer": "ipython3",
   "version": "3.8.10"
  }
 },
 "nbformat": 4,
 "nbformat_minor": 5
}
